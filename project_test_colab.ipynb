{
  "nbformat": 4,
  "nbformat_minor": 0,
  "metadata": {
    "colab": {
      "provenance": []
    },
    "kernelspec": {
      "name": "python3",
      "display_name": "Python 3"
    },
    "language_info": {
      "name": "python"
    }
  },
  "cells": [
    {
      "cell_type": "code",
      "execution_count": null,
      "metadata": {
        "colab": {
          "base_uri": "https://localhost:8080/"
        },
        "id": "HOtyzqgQEThl",
        "outputId": "0e40fb3c-455c-405b-d273-56b1b0868d95"
      },
      "outputs": [
        {
          "output_type": "stream",
          "name": "stdout",
          "text": [
            "Requirement already satisfied: pyspark in /usr/local/lib/python3.10/dist-packages (3.5.1)\n",
            "Requirement already satisfied: py4j==0.10.9.7 in /usr/local/lib/python3.10/dist-packages (from pyspark) (0.10.9.7)\n"
          ]
        }
      ],
      "source": [
        "!pip install pyspark\n",
        "!pip install -q google-cloud-storage==1.43.0\n",
        "from inverted_index_gcp import *\n",
        "import pyspark\n"
      ]
    },
    {
      "cell_type": "code",
      "source": [
        "import sys\n",
        "from collections import Counter, OrderedDict\n",
        "import itertools\n",
        "from itertools import islice, count, groupby\n",
        "import pandas as pd\n",
        "import os\n",
        "import re\n",
        "from operator import itemgetter\n",
        "import nltk\n",
        "from nltk.stem.porter import *\n",
        "from nltk.corpus import stopwords\n",
        "from time import time\n",
        "from timeit import timeit\n",
        "from pathlib import Path\n",
        "import pickle\n",
        "import pandas as pd\n",
        "import numpy as np\n",
        "from google.cloud import storage\n",
        "\n",
        "import hashlib\n",
        "def _hash(s):\n",
        "    return hashlib.blake2b(bytes(s, encoding='utf8'), digest_size=5).hexdigest()\n",
        "\n",
        "nltk.download('stopwords')"
      ],
      "metadata": {
        "colab": {
          "base_uri": "https://localhost:8080/"
        },
        "id": "IiXZmh1wF5QB",
        "outputId": "1e71edb1-6478-4699-ba1f-bde6c84ca724"
      },
      "execution_count": null,
      "outputs": [
        {
          "output_type": "stream",
          "name": "stderr",
          "text": [
            "[nltk_data] Downloading package stopwords to /root/nltk_data...\n",
            "[nltk_data]   Package stopwords is already up-to-date!\n"
          ]
        },
        {
          "output_type": "execute_result",
          "data": {
            "text/plain": [
              "True"
            ]
          },
          "metadata": {},
          "execution_count": 2
        }
      ]
    },
    {
      "cell_type": "code",
      "source": [
        "# Authenticate your user\n",
        "# The authentication should be done with the email connected to your GCP account\n",
        "from google.colab import auth\n",
        "import signal\n",
        "\n",
        "AUTH_TIMEOUT = 30\n",
        "\n",
        "def handler(signum, frame):\n",
        "  raise Exception(\"Authentication timeout!\")\n",
        "\n",
        "signal.signal(signal.SIGALRM, handler)\n",
        "signal.alarm(AUTH_TIMEOUT)\n",
        "\n",
        "try:\n",
        "   auth.authenticate_user()\n",
        "except:\n",
        "   pass"
      ],
      "metadata": {
        "id": "KIc8bsmkEmfI"
      },
      "execution_count": null,
      "outputs": []
    },
    {
      "cell_type": "code",
      "source": [
        "# inverted text upload\n",
        "bucket_name = \"bucket324955145\"\n",
        "file_path = \"postings_gcp/text/postings_gcp_text_inverted_text_v1.pkl\"\n",
        "storage_client = storage.Client()\n",
        "bucket = storage_client.bucket(bucket_name)\n",
        "blob = bucket.blob(file_path)\n",
        "contents = blob.download_as_bytes()\n",
        "inverted_text = pickle.loads(contents)"
      ],
      "metadata": {
        "id": "y-nbwugOEqJX"
      },
      "execution_count": null,
      "outputs": []
    },
    {
      "cell_type": "code",
      "source": [
        "# inverted title upload\n",
        "bucket_name = \"bucket324955145\"\n",
        "file_path = \"postings_gcp/title/postings_gcp_title_inverted_title_v1.pkl\"\n",
        "storage_client = storage.Client()\n",
        "bucket = storage_client.bucket(bucket_name)\n",
        "blob = bucket.blob(file_path)\n",
        "contents = blob.download_as_bytes()\n",
        "inverted_title = pickle.loads(contents)"
      ],
      "metadata": {
        "id": "0wjEdiX1HZdk"
      },
      "execution_count": null,
      "outputs": []
    },
    {
      "cell_type": "code",
      "source": [
        "english_stopwords = frozenset(stopwords.words('english'))\n",
        "corpus_stopwords = [\"category\", \"references\", \"also\", \"external\", \"links\",\n",
        "                    \"may\", \"first\", \"see\", \"history\", \"people\", \"one\", \"two\",\n",
        "                    \"part\", \"thumb\", \"including\", \"second\", \"following\",\n",
        "                    \"many\", \"however\", \"would\", \"became\"]\n",
        "\n",
        "all_stopwords = english_stopwords.union(corpus_stopwords)\n",
        "RE_WORD = re.compile(r\"\"\"[\\#\\@\\w](['\\-]?\\w){2,24}\"\"\", re.UNICODE)"
      ],
      "metadata": {
        "id": "KgZPwP7aGwo6"
      },
      "execution_count": null,
      "outputs": []
    },
    {
      "cell_type": "code",
      "source": [
        "# doc len\n",
        "text_doc_len = inverted_text.doc_len.copy()\n",
        "title_doc_len = inverted_title.doc_len.copy()"
      ],
      "metadata": {
        "id": "pDJ681wwG6KJ"
      },
      "execution_count": null,
      "outputs": []
    },
    {
      "cell_type": "code",
      "source": [
        "# idf\n",
        "text_idf = inverted_text.idf\n",
        "title_idf = inverted_title.idf"
      ],
      "metadata": {
        "id": "qzm5WlaNHDdb"
      },
      "execution_count": null,
      "outputs": []
    },
    {
      "cell_type": "code",
      "source": [
        "# idf bm 25\n",
        "# text_idf_bm25 = inverted_text.get_idf_bm25()\n",
        "# title_idf_bm25 = inverted_title.get_idf_bm25()\n",
        "text_idf_bm25 = inverted_text.idf_bm25\n",
        "title_idf_bm25 = inverted_title.idf_bm25"
      ],
      "metadata": {
        "id": "UG3f3aN-HIJU"
      },
      "execution_count": null,
      "outputs": []
    },
    {
      "cell_type": "code",
      "source": [
        "# advl\n",
        "# text_avdl = inverted_text.get_avdl()\n",
        "# title_avdl = inverted_title.get_avdl()\n",
        "text_avdl = inverted_text.avdl\n",
        "title_avdl = inverted_title.avdl"
      ],
      "metadata": {
        "id": "TLWU-c8RHLsS"
      },
      "execution_count": null,
      "outputs": []
    },
    {
      "cell_type": "code",
      "source": [
        "# check to see what values we can work with now:\n",
        "print(len(inverted_text.doc_len.copy()))\n",
        "print(len(inverted_title.doc_len.copy()))\n",
        "print(len(inverted_text.idf))\n",
        "print(len(inverted_title.idf))\n",
        "print(len(text_idf_bm25))\n",
        "print(len(title_idf_bm25))\n",
        "print(text_avdl)\n",
        "print(title_avdl)"
      ],
      "metadata": {
        "colab": {
          "base_uri": "https://localhost:8080/"
        },
        "id": "u31Uh2LXHOuR",
        "outputId": "85a0e89f-42d0-4bb4-ef5e-0b34e105c9ad"
      },
      "execution_count": null,
      "outputs": [
        {
          "output_type": "stream",
          "name": "stdout",
          "text": [
            "6347138\n",
            "6340943\n",
            "495532\n",
            "103028\n",
            "495532\n",
            "103028\n",
            "319.6134407350211\n",
            "2.5288798527285294\n"
          ]
        }
      ]
    },
    {
      "cell_type": "code",
      "source": [
        "inverted_title.doc_len[]"
      ],
      "metadata": {
        "id": "aY682-oIWEwF"
      },
      "execution_count": null,
      "outputs": []
    },
    {
      "cell_type": "code",
      "source": [
        "k1 = 0.1\n",
        "k3 = 0\n",
        "b = 0.75"
      ],
      "metadata": {
        "id": "XtJiWwkDIZYq"
      },
      "execution_count": null,
      "outputs": []
    },
    {
      "cell_type": "code",
      "source": [
        "# testing:\n",
        "\n",
        "\n",
        "def retrieve_posting_list_title(query_word: str, bucket_name: str):\n",
        "    return inverted_title.read_a_posting_list(base_dir='.', w=query_word, bucket_name=bucket_name)\n",
        "\n",
        "def retrieve_posting_list_text(query_word: str, bucket_name: str):\n",
        "    return inverted_text.read_a_posting_list(base_dir='.', w=query_word, bucket_name=bucket_name)\n",
        "\n",
        "def calculate_bm25_per_tf(token, doc_id_tf, inverted):\n",
        "    doc_id, tf = doc_id_tf\n",
        "    B = 1 - b + b * inverted_title.doc_len.get(doc_id)\n",
        "    return ((k1 + 1) / (B * k1 + tf)) * ((inverted_title.corpus_size + 1) /inverted_title.idf_bm25[token])\n",
        "\n",
        "\n",
        "# def calculate_bm25(tokens_pl):\n",
        "#     for token_pl in tokens_pl.items():\n",
        "#         calculate_bm25_per_token(token_pl)\n",
        "\n",
        "\n",
        "\n",
        "\n",
        "def query(query: str, bucket_name: str):\n",
        "    tokens = [token.group() for token in RE_WORD.finditer(query.lower())]\n",
        "    tokens = [token for token in tokens if token not in all_stopwords]\n",
        "    token_pl_title = {token: retrieve_posting_list_title(token) for token in tokens}\n",
        "    bm25_title = calculate_bm25(token_pl_title)"
      ],
      "metadata": {
        "id": "A-JGj3S2IfUF"
      },
      "execution_count": null,
      "outputs": []
    },
    {
      "cell_type": "code",
      "source": [
        "print(calculate_bm25_per_tf(token='anarchism', doc_id_tf=(12, 1), inverted=inverted_text))\n",
        "print(calculate_bm25_per_tf(token='anarchism', doc_id_tf=(12, 1), inverted=inverted_text))"
      ],
      "metadata": {
        "colab": {
          "base_uri": "https://localhost:8080/"
        },
        "id": "eFMIvVNSVSYT",
        "outputId": "ca2eb765-bac5-4c9b-b628-3b7c9fcb8779"
      },
      "execution_count": null,
      "outputs": [
        {
          "output_type": "stream",
          "name": "stdout",
          "text": [
            "405323.9668576603\n",
            "405323.9668576603\n"
          ]
        }
      ]
    },
    {
      "cell_type": "code",
      "source": [
        "pls = [\n",
        "    [(1, 3), (3, 1)],\n",
        "    [(1, 2), (2, 2), (4, 1)],\n",
        "    [(2, 3), (3, 3)]\n",
        "]"
      ],
      "metadata": {
        "id": "78F9iO6VSBXc"
      },
      "execution_count": null,
      "outputs": []
    },
    {
      "cell_type": "code",
      "source": [
        "gens = [(item for item in pl) for pl in pls]"
      ],
      "metadata": {
        "id": "NxL3DADhKU69"
      },
      "execution_count": null,
      "outputs": []
    }
  ]
}