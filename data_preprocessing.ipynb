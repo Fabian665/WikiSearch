{
 "cells": [
  {
   "cell_type": "markdown",
   "source": [
    "**It should be noted that this notebook may not run smoothly and that it needs some touch-ups to get it to work properly. The main idea is to show the process of creating an inverted index and the steps that are needed to be taken to do so. The code is not optimized and may not run properly on a local machine. It is recommended to run it on a cloud service such as Google Cloud Platform.**"
   ],
   "metadata": {
    "collapsed": false
   },
   "id": "7d5355f61ceb9141"
  },
  {
   "cell_type": "code",
   "execution_count": 1,
   "id": "5ac36d3a",
   "metadata": {
    "id": "c0ccf76b",
    "nbgrader": {
     "grade": false,
     "grade_id": "cell-Worker_Count",
     "locked": true,
     "schema_version": 3,
     "solution": false,
     "task": false
    },
    "outputId": "cf88b954-f39a-412a-d87e-660833e735b6"
   },
   "outputs": [
    {
     "name": "stdout",
     "output_type": "stream",
     "text": [
      "NAME          PLATFORM  PRIMARY_WORKER_COUNT  SECONDARY_WORKER_COUNT  STATUS   ZONE           SCHEDULED_DELETE\n",
      "cluster-748d  GCE       4                                             RUNNING  us-central1-a\n"
     ]
    }
   ],
   "source": [
    "# if the following command generates an error, you probably didn't enable \n",
    "# the cluster security option \"Allow API access to all Google Cloud services\"\n",
    "# under Manage Security → Project Access when setting up the cluster\n",
    "!gcloud dataproc clusters list --region us-central1"
   ]
  },
  {
   "cell_type": "markdown",
   "id": "51cf86c5",
   "metadata": {
    "id": "01ec9fd3"
   },
   "source": [
    "# Imports & Setup"
   ]
  },
  {
   "cell_type": "code",
   "execution_count": 2,
   "id": "bf199e6a",
   "metadata": {
    "id": "32b3ec57",
    "nbgrader": {
     "grade": false,
     "grade_id": "cell-Setup",
     "locked": true,
     "schema_version": 3,
     "solution": false,
     "task": false
    },
    "outputId": "fc0e315d-21e9-411d-d69c-5b97e4e5d629"
   },
   "outputs": [
    {
     "name": "stdout",
     "output_type": "stream",
     "text": [
      "\u001B[33mWARNING: Running pip as the 'root' user can result in broken permissions and conflicting behaviour with the system package manager. It is recommended to use a virtual environment instead: https://pip.pypa.io/warnings/venv\u001B[0m\u001B[33m\n",
      "\u001B[0m\u001B[33mWARNING: Running pip as the 'root' user can result in broken permissions and conflicting behaviour with the system package manager. It is recommended to use a virtual environment instead: https://pip.pypa.io/warnings/venv\u001B[0m\u001B[33m\n",
      "\u001B[0m"
     ]
    }
   ],
   "source": [
    "!pip install -q google-cloud-storage==1.43.0\n",
    "!pip install -q graphframes"
   ]
  },
  {
   "cell_type": "code",
   "execution_count": 3,
   "id": "d8f56ecd",
   "metadata": {
    "id": "5609143b",
    "nbgrader": {
     "grade": false,
     "grade_id": "cell-Imports",
     "locked": true,
     "schema_version": 3,
     "solution": false,
     "task": false
    },
    "outputId": "a24aa24b-aa75-4823-83ca-1d7deef0f0de"
   },
   "outputs": [
    {
     "name": "stderr",
     "output_type": "stream",
     "text": [
      "[nltk_data] Downloading package stopwords to /root/nltk_data...\n",
      "[nltk_data]   Package stopwords is already up-to-date!\n"
     ]
    },
    {
     "data": {
      "text/plain": [
       "True"
      ]
     },
     "execution_count": 3,
     "metadata": {},
     "output_type": "execute_result"
    }
   ],
   "source": [
    "import pyspark\n",
    "import sys\n",
    "from collections import Counter, OrderedDict, defaultdict\n",
    "import itertools\n",
    "from itertools import islice, count, groupby\n",
    "import pandas as pd\n",
    "import os\n",
    "import re\n",
    "from operator import itemgetter\n",
    "import nltk\n",
    "from gensim.corpora import PorterStemmer\n",
    "from nltk.corpus import stopwords\n",
    "from time import time\n",
    "from pathlib import Path\n",
    "import pickle\n",
    "import pandas as pd\n",
    "from google.cloud import storage\n",
    "\n",
    "import hashlib\n",
    "def _hash(s):\n",
    "    return hashlib.blake2b(bytes(s, encoding='utf8'), digest_size=5).hexdigest()\n",
    "\n",
    "nltk.download('stopwords')"
   ]
  },
  {
   "cell_type": "code",
   "execution_count": 4,
   "id": "38a897f2",
   "metadata": {
    "id": "b10cc999",
    "nbgrader": {
     "grade": false,
     "grade_id": "cell-jar",
     "locked": true,
     "schema_version": 3,
     "solution": false,
     "task": false
    },
    "outputId": "8f93a7ec-71e0-49c1-fc81-9af385849a90"
   },
   "outputs": [
    {
     "name": "stdout",
     "output_type": "stream",
     "text": [
      "-rw-r--r-- 1 root root 247882 Mar  5 18:01 /usr/lib/spark/jars/graphframes-0.8.2-spark3.1-s_2.12.jar\n"
     ]
    }
   ],
   "source": [
    "# if nothing prints here you forgot to include the initialization script when starting the cluster\n",
    "!ls -l /usr/lib/spark/jars/graph*"
   ]
  },
  {
   "cell_type": "code",
   "execution_count": 5,
   "id": "47900073",
   "metadata": {
    "id": "d3f86f11",
    "nbgrader": {
     "grade": false,
     "grade_id": "cell-pyspark-import",
     "locked": true,
     "schema_version": 3,
     "solution": false,
     "task": false
    }
   },
   "outputs": [],
   "source": [
    "from pyspark.sql import *\n",
    "from pyspark.sql.functions import *\n",
    "from pyspark import SparkContext, SparkConf, SparkFiles\n",
    "from pyspark.sql import SQLContext\n",
    "from graphframes import *"
   ]
  },
  {
   "cell_type": "code",
   "execution_count": 6,
   "id": "72bed56b",
   "metadata": {
    "id": "5be6dc2a",
    "nbgrader": {
     "grade": false,
     "grade_id": "cell-spark-version",
     "locked": true,
     "schema_version": 3,
     "solution": false,
     "task": false
    },
    "outputId": "07b4e22b-a252-42fb-fe46-d9050e4e7ca8",
    "scrolled": true
   },
   "outputs": [
    {
     "data": {
      "text/html": [
       "\n",
       "            <div>\n",
       "                <p><b>SparkSession - hive</b></p>\n",
       "                \n",
       "        <div>\n",
       "            <p><b>SparkContext</b></p>\n",
       "\n",
       "            <p><a href=\"http://cluster-748d-m.us-central1-a.c.ir-ass3-414111.internal:43567\">Spark UI</a></p>\n",
       "\n",
       "            <dl>\n",
       "              <dt>Version</dt>\n",
       "                <dd><code>v3.3.2</code></dd>\n",
       "              <dt>Master</dt>\n",
       "                <dd><code>yarn</code></dd>\n",
       "              <dt>AppName</dt>\n",
       "                <dd><code>PySparkShell</code></dd>\n",
       "            </dl>\n",
       "        </div>\n",
       "        \n",
       "            </div>\n",
       "        "
      ],
      "text/plain": [
       "<pyspark.sql.session.SparkSession at 0x7faf86a19810>"
      ]
     },
     "execution_count": 6,
     "metadata": {},
     "output_type": "execute_result"
    }
   ],
   "source": [
    "spark"
   ]
  },
  {
   "cell_type": "code",
   "execution_count": 7,
   "id": "cf74826f-66e0-4b93-8a1c-2ad8345d1230",
   "metadata": {
    "id": "7adc1bf5",
    "nbgrader": {
     "grade": false,
     "grade_id": "cell-bucket_name",
     "locked": false,
     "schema_version": 3,
     "solution": true,
     "task": false
    }
   },
   "outputs": [],
   "source": [
    "# Put your bucket name below and make sure you can access it without an error\n",
    "bucket_name = 'bgu-ir-ass3-fab-stem' \n",
    "full_path = f\"gs://{bucket_name}/\"\n",
    "paths=[]\n",
    "\n",
    "client = storage.Client()"
   ]
  },
  {
   "cell_type": "code",
   "execution_count": null,
   "id": "86ab0493-0f4b-40e7-a4ae-43252420e645",
   "metadata": {
    "id": "7adc1bf5",
    "nbgrader": {
     "grade": false,
     "grade_id": "cell-bucket_name",
     "locked": false,
     "schema_version": 3,
     "solution": true,
     "task": false
    }
   },
   "outputs": [],
   "source": [
    "blobs = client.list_blobs(bucket_name)\n",
    "for b in blobs:\n",
    "    if b.name != 'graphframes.sh' and not b.name.startswith('postings_gcp') and not b.name.startswith('pr'):\n",
    "        paths.append(full_path+b.name)"
   ]
  },
  {
   "cell_type": "code",
   "execution_count": null,
   "id": "e4c523e7",
   "metadata": {
    "id": "b1af29c9",
    "tags": []
   },
   "outputs": [],
   "source": [
    "parquetFile = spark.read.parquet(*paths)\n",
    "doc_text_pairs = parquetFile.select(\"text\", \"id\").rdd\n",
    "doc_title_pairs = parquetFile.select(\"title\", \"id\").rdd"
   ]
  },
  {
   "cell_type": "code",
   "execution_count": null,
   "id": "82881fbf",
   "metadata": {
    "id": "d89a7a9a",
    "tags": []
   },
   "outputs": [],
   "source": [
    "# Count number of wiki pages\n",
    "N = parquetFile.count()\n",
    "N"
   ]
  },
  {
   "cell_type": "code",
   "execution_count": 8,
   "id": "121fe102",
   "metadata": {
    "id": "04371c88",
    "outputId": "327fe81b-80f4-4b3a-8894-e74720d92e35",
    "tags": []
   },
   "outputs": [
    {
     "name": "stdout",
     "output_type": "stream",
     "text": [
      "inverted_index_gcp.py\n"
     ]
    }
   ],
   "source": [
    "# if nothing prints here you forgot to upload the file inverted_index_gcp.py to the home dir\n",
    "%cd -q /home/dataproc\n",
    "!ls inverted_index_gcp.py"
   ]
  },
  {
   "cell_type": "code",
   "execution_count": 9,
   "id": "57c101a8",
   "metadata": {
    "id": "2d3285d8",
    "scrolled": true
   },
   "outputs": [],
   "source": [
    "# adding our python module to the cluster\n",
    "sc.addFile(\"/home/dataproc/inverted_index_gcp.py\")\n",
    "sys.path.insert(0,SparkFiles.getRootDirectory())"
   ]
  },
  {
   "cell_type": "code",
   "execution_count": 10,
   "id": "c259c402",
   "metadata": {
    "id": "2477a5b9"
   },
   "outputs": [],
   "source": [
    "from inverted_index_gcp import InvertedIndex"
   ]
  },
  {
   "cell_type": "code",
   "execution_count": null,
   "id": "4d97b412-3f77-474d-8a0a-502f5f2fd8c9",
   "metadata": {
    "id": "a4b6ee29",
    "nbgrader": {
     "grade": false,
     "grade_id": "cell-token2bucket",
     "locked": false,
     "schema_version": 3,
     "solution": true,
     "task": false
    }
   },
   "outputs": [],
   "source": [
    "english_stopwords = frozenset(stopwords.words('english'))\n",
    "corpus_stopwords = [\"category\", \"references\", \"also\", \"external\", \"links\", \n",
    "                    \"may\", \"first\", \"see\", \"history\", \"people\", \"one\", \"two\", \n",
    "                    \"part\", \"thumb\", \"including\", \"second\", \"following\", \n",
    "                    \"many\", \"however\", \"would\", \"became\"]\n",
    "\n",
    "all_stopwords = english_stopwords.union(corpus_stopwords)\n",
    "RE_WORD = re.compile(r\"\"\"[\\#\\@\\w](['\\-]?\\w){2,24}\"\"\", re.UNICODE)\n",
    "stemmer = PorterStemmer()"
   ]
  },
  {
   "cell_type": "code",
   "execution_count": null,
   "id": "38d3382e-c118-4892-a067-477255b3a2b9",
   "metadata": {
    "id": "a4b6ee29",
    "nbgrader": {
     "grade": false,
     "grade_id": "cell-token2bucket",
     "locked": false,
     "schema_version": 3,
     "solution": true,
     "task": false
    }
   },
   "outputs": [],
   "source": [
    "NUM_BUCKETS = 124\n",
    "def token2bucket_id(token):\n",
    "    return int(_hash(token),16) % NUM_BUCKETS  # if we plan on running this again, create seperate funcs for text, title\n",
    "\n",
    "def word_count(text, id):\n",
    "    ''' Count the frequency of each word in `text` (tf) that is not included in\n",
    "    `all_stopwords` and return entries that will go into our posting lists.\n",
    "    Parameters:\n",
    "    -----------\n",
    "    text: str\n",
    "      Text of one document\n",
    "    id: int\n",
    "      Document id\n",
    "    Returns:\n",
    "    --------\n",
    "    List of tuples\n",
    "      A list of (token, (doc_id, tf)) pairs\n",
    "      for example: [(\"Anarchism\", (12, 5)), ...]\n",
    "    '''\n",
    "    tokens = [token.group() for token in RE_WORD.finditer(text.lower())]\n",
    "    tokens = [stemmer.stem(token) for token in tokens if token not in all_stopwords]\n",
    "    word_count = Counter(tokens)\n",
    "    return [(token, (id, tf)) for token, tf in word_count.items()]\n",
    "\n",
    "def reduce_word_counts(unsorted_pl):\n",
    "    ''' Returns a sorted posting list by wiki_id.\n",
    "    Parameters:\n",
    "    -----------\n",
    "    unsorted_pl: list of tuples\n",
    "      A list of (wiki_id, tf) tuples\n",
    "    Returns:\n",
    "    --------\n",
    "    list of tuples\n",
    "      A sorted posting list.\n",
    "    '''\n",
    "    return sorted(unsorted_pl, key=itemgetter(0))\n",
    "\n",
    "def partition_postings_and_write(postings, base_dir):\n",
    "    ''' A function that partitions the posting lists into buckets, writes out\n",
    "    all posting lists in a bucket to disk, and returns the posting locations for\n",
    "    each bucket. Partitioning should be done through the use of `token2bucket`\n",
    "    above. Writing to disk should use the function  `write_a_posting_list`, a\n",
    "    static method implemented in inverted_index_colab.py under the InvertedIndex\n",
    "    class.\n",
    "    Parameters:\n",
    "    -----------\n",
    "    postings: RDD\n",
    "      An RDD where each item is a (w, posting_list) pair.\n",
    "    Returns:\n",
    "    --------\n",
    "    RDD\n",
    "      An RDD where each item is a posting locations dictionary for a bucket. The\n",
    "      posting locations maintain a list for each word of file locations and\n",
    "      offsets its posting list was written to. See `write_a_posting_list` for\n",
    "      more details.\n",
    "    '''\n",
    "    buckets = postings.map(lambda x: (token2bucket_id(x[0]), x))\n",
    "    buckets = buckets.groupByKey().mapValues(list)\n",
    "    return buckets.map(lambda x: InvertedIndex.write_a_posting_list(x, base_dir, bucket_name))\n",
    "\n",
    "def calculate_df(postings):\n",
    "    ''' Takes a posting list RDD and calculate the df for each token.\n",
    "    Parameters:\n",
    "    -----------\n",
    "    postings: RDD\n",
    "      An RDD where each element is a (token, posting_list) pair.\n",
    "    Returns:\n",
    "    --------\n",
    "    RDD\n",
    "      An RDD where each element is a (token, df) pair.\n",
    "    '''\n",
    "    return postings.mapValues(len)\n",
    "\n",
    "def calculate_tf(postings):\n",
    "    return postings.mapValues(lambda x: x[1]).reduceByKey(lambda a, b: a + b)\n",
    "\n",
    "def calculate_tf_per_doc(postings):\n",
    "    return postings.groupByKey().mapValues(dict)\n",
    "\n",
    "def calculate_document_length(postings):\n",
    "    return postings.map(lambda x: (x[1][0], x[1][1])).reduceByKey(lambda a, b: a + b)"
   ]
  },
  {
   "cell_type": "code",
   "execution_count": null,
   "id": "8de74a8a",
   "metadata": {
    "id": "0b5d7296",
    "nbgrader": {
     "grade": false,
     "grade_id": "cell-index_construction",
     "locked": false,
     "schema_version": 3,
     "solution": true,
     "task": false
    }
   },
   "outputs": [],
   "source": [
    "# word counts map\n",
    "word_counts_text = doc_text_pairs.flatMap(lambda x: word_count(x[0], x[1]))\n",
    "postings_text = word_counts_text.groupByKey().mapValues(reduce_word_counts)\n",
    "# filtering postings and calculate df\n",
    "postings_text_filtered = postings_text.filter(lambda x: len(x[1])>50)\n",
    "w2df_text = calculate_df(postings_text_filtered)\n",
    "w2df_text_dict = w2df_text.collectAsMap()\n",
    "# partition posting lists and write out\n",
    "_ = partition_postings_and_write(postings_text_filtered, './postings_gcp/text/').collect()"
   ]
  },
  {
   "cell_type": "code",
   "execution_count": null,
   "id": "55c8764e",
   "metadata": {
    "id": "0b5d7296",
    "nbgrader": {
     "grade": false,
     "grade_id": "cell-index_construction",
     "locked": false,
     "schema_version": 3,
     "solution": true,
     "task": false
    }
   },
   "outputs": [],
   "source": [
    "# word counts map\n",
    "word_counts_title = doc_title_pairs.flatMap(lambda x: word_count(x[0], x[1]))\n",
    "postings_title = word_counts_title.groupByKey().mapValues(reduce_word_counts)\n",
    "# filtering postings and calculate df\n",
    "postings_title_filtered = postings_title.filter(lambda x: len(x[1])>10)\n",
    "w2df_title = calculate_df(postings_title_filtered)\n",
    "w2df_title_dict = w2df_title.collectAsMap()\n",
    "# partition posting lists and write out\n",
    "_ = partition_postings_and_write(postings_title_filtered, './postings_gcp/title/').collect()"
   ]
  },
  {
   "cell_type": "code",
   "execution_count": null,
   "id": "ab3296f4",
   "metadata": {
    "id": "Opl6eRNLM5Xv",
    "nbgrader": {
     "grade": true,
     "grade_id": "collect-posting",
     "locked": true,
     "points": 0,
     "schema_version": 3,
     "solution": false,
     "task": false
    }
   },
   "outputs": [],
   "source": [
    "# collect all posting lists locations into one super-set\n",
    "super_posting_text_locs = defaultdict(list)\n",
    "for blob in client.list_blobs(bucket_name, prefix='postings_gcp/text'):\n",
    "  if not blob.name.endswith(\"pickle\"):\n",
    "    continue\n",
    "  with blob.open(\"rb\") as f:\n",
    "    posting_locs = pickle.load(f)\n",
    "    for k, v in posting_locs.items():\n",
    "      super_posting_text_locs[k].extend(v)\n",
    "    \n",
    "    \n",
    "# collect all posting lists locations into one super-set\n",
    "super_posting_title_locs = defaultdict(list)\n",
    "for blob in client.list_blobs(bucket_name, prefix='postings_gcp/title'):\n",
    "  if not blob.name.endswith(\"pickle\"):\n",
    "    continue\n",
    "  with blob.open(\"rb\") as f:\n",
    "    posting_locs = pickle.load(f)\n",
    "    for k, v in posting_locs.items():\n",
    "      super_posting_title_locs[k].extend(v)"
   ]
  },
  {
   "cell_type": "code",
   "execution_count": null,
   "id": "077595bf-3438-4373-868c-a76b2048e24e",
   "metadata": {},
   "outputs": [],
   "source": [
    "# =============================================\n",
    "# takes a while so run only when you need it!!!\n",
    "# =============================================\n",
    "\n",
    "# calculate document lengths:\n",
    "title_doc_length = calculate_document_length(word_counts_title)\n",
    "text_doc_length = calculate_document_length(word_counts_text)\n",
    "\n",
    "title_length = title_doc_length.collectAsMap()\n",
    "document_length = text_doc_length.collectAsMap()\n",
    "\n",
    "total_title_length = title_doc_length.map(lambda x: x[1]).sum()\n",
    "total_title_docs = title_doc_length.count()\n",
    "\n",
    "# Calculate total length and total number of documents for texts:\n",
    "total_text_length = text_doc_length.map(lambda x: x[1]).sum()\n",
    "total_text_docs = text_doc_length.count()\n",
    "\n",
    "# Calculate avdl:\n",
    "average_title_length = total_title_length / total_title_docs\n",
    "average_text_length = total_text_length / total_text_docs"
   ]
  },
  {
   "cell_type": "code",
   "execution_count": null,
   "id": "31a516e2",
   "metadata": {
    "id": "yVjnTvQsegc-"
   },
   "outputs": [],
   "source": [
    "def generate_graph(pages):\n",
    "  ''' Compute the directed graph generated by wiki links.\n",
    "  Parameters:\n",
    "  -----------\n",
    "    pages: RDD\n",
    "      An RDD where each row consists of one wikipedia articles with 'id' and\n",
    "      'anchor_text'.\n",
    "  Returns:\n",
    "  --------\n",
    "    edges: RDD\n",
    "      An RDD where each row represents an edge in the directed graph created by\n",
    "      the wikipedia links. The first entry should the source page id and the\n",
    "      second entry is the destination page id. No duplicates should be present.\n",
    "    vertices: RDD\n",
    "      An RDD where each row represents a vetrix (node) in the directed graph\n",
    "      created by the wikipedia links. No duplicates should be present.\n",
    "  '''\n",
    "  # YOUR CODE HERE\n",
    "  edges = pages.flatMapValues(lambda x: x).mapValues(lambda x: x[0]).distinct()\n",
    "  vertices = edges.flatMap(lambda x: x).distinct().map(lambda x: (x, ))\n",
    "  return edges, vertices"
   ]
  },
  {
   "cell_type": "code",
   "execution_count": null,
   "id": "6bc05ba3",
   "metadata": {
    "id": "db005700",
    "nbgrader": {
     "grade": false,
     "grade_id": "cell-PageRank",
     "locked": false,
     "schema_version": 3,
     "solution": true,
     "task": false
    }
   },
   "outputs": [],
   "source": [
    "pages_links = parquetFile.select (\"id\",\"anchor_text\").rdd\n",
    "# construct the graph \n",
    "edges, vertices = generate_graph(pages_links)\n",
    "# compute PageRank\n",
    "edgesDF = edges.toDF(['src', 'dst']).repartition(124, 'src')\n",
    "verticesDF = vertices.toDF(['id']).repartition(124, 'id')\n",
    "g = GraphFrame(verticesDF, edgesDF)\n",
    "pr_results = g.pageRank(resetProbability=0.15, maxIter=6)\n",
    "pr = pr_results.vertices.select(\"id\", \"pagerank\")\n",
    "page_rank = {row['id']: row['pagerank'] for row in pr.collect()}"
   ]
  },
  {
   "cell_type": "code",
   "execution_count": null,
   "id": "b0b9ceb8-181f-465c-b5df-a03945e7e0cd",
   "metadata": {
    "id": "54vqT_0WNc3w"
   },
   "outputs": [],
   "source": [
    "# ======================================================\n",
    "# not needed if you download the pickles from the bucket\n",
    "# ======================================================\n",
    " \n",
    "# Create inverted index instance\n",
    "inverted_title = InvertedIndex()\n",
    "inverted_text = InvertedIndex()\n",
    "\n",
    "# Adding the posting locations dictionary to the inverted index\n",
    "inverted_title.posting_locs = super_posting_title_locs\n",
    "inverted_text.posting_locs = super_posting_text_locs\n",
    "# Add the token - df dictionary to the inverted index\n",
    "inverted_title.df = w2df_title_dict\n",
    "inverted_text.df = w2df_text_dict\n",
    "\n",
    "inverted_title.corpus_size = N\n",
    "inverted_text.corpus_size = N\n",
    "\n",
    "inverted_title.doc_len = title_length\n",
    "inverted_text.doc_len = document_length\n",
    "\n",
    "inverted_title.avdl = average_title_length\n",
    "inverted_text.avdl = average_text_length\n",
    "\n",
    "\n",
    "# write the global stats out\n",
    "inverted_title.write_index('.', 'index_title')\n",
    "inverted_text.write_index('.', 'index_text')"
   ]
  },
  {
   "cell_type": "code",
   "execution_count": null,
   "id": "d09ed462-c615-4a27-bf46-10cb64f72d19",
   "metadata": {
    "id": "54vqT_0WNc3w"
   },
   "outputs": [],
   "source": [
    "# upload to gs\n",
    "############################################################\n",
    "# Only uncomment this if you updated the index properly!!!!#\n",
    "############################################################\n",
    "# index_title_src = \"index_title.pkl\"\n",
    "# index_text_src = \"index_text.pkl\"\n",
    "# index_title_dst = f'gs://{bucket_name}/postings_gcp/title/{index_title_src}'\n",
    "# index_text_dst = f'gs://{bucket_name}/postings_gcp/text/{index_text_src}'\n",
    "# !gsutil cp $index_title_src $index_title_dst\n",
    "# !gsutil cp $index_text_src $index_text_dst"
   ]
  },
  {
   "cell_type": "code",
   "execution_count": null,
   "id": "8f880d59",
   "metadata": {
    "id": "msogGbJ3c8JF",
    "nbgrader": {
     "grade": false,
     "grade_id": "cell-index_dst_size",
     "locked": true,
     "schema_version": 3,
     "solution": false,
     "task": false
    }
   },
   "outputs": [],
   "source": [
    "!gsutil ls -lh $index_title_dst\n",
    "!gsutil ls -lh $index_text_dst"
   ]
  },
  {
   "cell_type": "code",
   "execution_count": 11,
   "id": "fa14121e",
   "metadata": {},
   "outputs": [],
   "source": [
    "# path = '/home/dataproc'\n",
    "for blob in client.list_blobs(bucket_name):\n",
    "    if blob.name.endswith('.pkl'):\n",
    "        file_name = blob.name[blob.name.rfind('/')+1:]\n",
    "        blob.download_to_filename(file_name)"
   ]
  },
  {
   "cell_type": "code",
   "execution_count": 12,
   "id": "53c73591",
   "metadata": {},
   "outputs": [],
   "source": [
    "with open('inverted_title_v1.pkl', 'rb') as file:\n",
    "    inverted_title = pickle.load(file)\n",
    "    \n",
    "with open('inverted_text_v1.pkl', 'rb') as file:\n",
    "    inverted_text = pickle.load(file)"
   ]
  },
  {
   "cell_type": "code",
   "execution_count": null,
   "id": "23442283-18e0-474b-a22e-cbd9deba36c2",
   "metadata": {},
   "outputs": [],
   "source": [
    "text_doc_len = inverted_text.doc_len.copy()\n",
    "title_doc_len = inverted_title.doc_len.copy()"
   ]
  },
  {
   "cell_type": "code",
   "execution_count": 13,
   "id": "163b2486-e19b-4e84-a76c-62252c0b1ebe",
   "metadata": {},
   "outputs": [
    {
     "name": "stdout",
     "output_type": "stream",
     "text": [
      "Copying file://inverted_text_v1.pkl [Content-Type=application/octet-stream]...\n",
      "==> NOTE: You are uploading one or more large file(s), which would run          \n",
      "significantly faster if you enable parallel composite uploads. This\n",
      "feature can be enabled by editing the\n",
      "\"parallel_composite_upload_threshold\" value in your .boto\n",
      "configuration file. However, note that if you do this large files will\n",
      "be uploaded as `composite objects\n",
      "<https://cloud.google.com/storage/docs/composite-objects>`_,which\n",
      "means that any user who downloads such objects will need to have a\n",
      "compiled crcmod installed (see \"gsutil help crcmod\"). This is because\n",
      "without a compiled crcmod, computing checksums on composite objects is\n",
      "so slow that gsutil disables downloads of composite objects.\n",
      "\n",
      "\\ [1 files][342.2 MiB/342.2 MiB]                                                \n",
      "Operation completed over 1 objects/342.2 MiB.                                    \n",
      "Copying file://inverted_title_v1.pkl [Content-Type=application/octet-stream]...\n",
      "==> NOTE: You are uploading one or more large file(s), which would run          \n",
      "significantly faster if you enable parallel composite uploads. This\n",
      "feature can be enabled by editing the\n",
      "\"parallel_composite_upload_threshold\" value in your .boto\n",
      "configuration file. However, note that if you do this large files will\n",
      "be uploaded as `composite objects\n",
      "<https://cloud.google.com/storage/docs/composite-objects>`_,which\n",
      "means that any user who downloads such objects will need to have a\n",
      "compiled crcmod installed (see \"gsutil help crcmod\"). This is because\n",
      "without a compiled crcmod, computing checksums on composite objects is\n",
      "so slow that gsutil disables downloads of composite objects.\n",
      "\n",
      "| [1 files][314.9 MiB/314.9 MiB]                                                \n",
      "Operation completed over 1 objects/314.9 MiB.                                    \n"
     ]
    }
   ],
   "source": [
    "def update_attribute(instance, attribute_name, new_data):\n",
    "    \"\"\"\n",
    "    Updates the specified attribute of an object instance with new data.\n",
    "\n",
    "    Args:\n",
    "        instance: The object instance to modify.\n",
    "        attribute_name (str): The name of the attribute to update.\n",
    "        new_data: The new value to assign to the attribute.\n",
    "\n",
    "    Raises:\n",
    "        AttributeError: If the object does not have the specified attribute.\n",
    "    \"\"\"\n",
    "\n",
    "    if hasattr(instance, attribute_name) and len(getattr(instance, attribute_name)) > 0:\n",
    "        raise AttributeError(f\"Object already has '{attribute_name}'\")\n",
    "\n",
    "    setattr(instance, attribute_name, new_data)\n",
    "\n",
    "def update_pickle(instance, filename, new_data):\n",
    "    for attr, data in new_data.items():\n",
    "        update_attribute(instance, attr, data)\n",
    "    instance._posting_list = []\n",
    "    instance.write_index('.', filename)\n",
    "    index_title_src = f'{filename}.pkl'\n",
    "    index_title_dst = f'gs://{bucket_name}/postings_gcp/title/{index_title_src}'\n",
    "    !gsutil cp $index_title_src $index_title_dst\n",
    "\n",
    "if False:\n",
    "    text_new_data = {\n",
    "    }\n",
    "\n",
    "    title_new_data = {\n",
    "    }\n",
    "    \n",
    "    update_pickle(inverted_text, 'inverted_text_v1', text_new_data)\n",
    "    update_pickle(inverted_title, 'inverted_title_v1', title_new_data)"
   ]
  },
  {
   "cell_type": "markdown",
   "source": [
    "At first we saved the pagerank to the indexes, but we decided to save it to a separate file. The reason for this is that the pagerank is not a part of the inverted index and should not be saved with it. We also decided to save the pagerank as a dictionary"
   ],
   "metadata": {
    "collapsed": false
   },
   "id": "936c9041ff324e0e"
  },
  {
   "cell_type": "code",
   "outputs": [],
   "source": [
    "inverted_text.set_normalized_page_rank()"
   ],
   "metadata": {
    "collapsed": false
   },
   "id": "cd87eacb-a109-41fa-82d2-9ddc22358f51",
   "execution_count": 0
  },
  {
   "cell_type": "code",
   "execution_count": null,
   "id": "5969d8d2-1d2d-45f5-9ad8-ebae41915329",
   "metadata": {
    "tags": []
   },
   "outputs": [],
   "source": [
    "with open('normalized_pagerank.pkl', 'wb') as f:\n",
    "    pickle.dump(inverted_text.pagerank_normalized, f)"
   ]
  },
  {
   "cell_type": "code",
   "execution_count": null,
   "id": "2448011c-4a36-4c50-a19f-f01e7c20cfc8",
   "metadata": {},
   "outputs": [],
   "source": [
    "inverted_title.set_normalized_page_rank()"
   ]
  },
  {
   "cell_type": "code",
   "execution_count": null,
   "id": "66676da8-e38a-4a0d-9e4a-16dab17d0e2a",
   "metadata": {},
   "outputs": [],
   "source": [
    "with open('normalized_pagerank_title.pkl', 'wb') as f:\n",
    "    pickle.dump(inverted_title.pagerank_normalized, f)"
   ]
  },
  {
   "cell_type": "code",
   "execution_count": null,
   "id": "a9227fb0-171c-4575-a7df-9f05acda84cc",
   "metadata": {},
   "outputs": [],
   "source": [
    "inverted_title.calculte_idf()"
   ]
  },
  {
   "cell_type": "code",
   "execution_count": null,
   "id": "b264a05c-d6e8-4251-b9e3-894aeb81d26d",
   "metadata": {},
   "outputs": [],
   "source": [
    "inverted_title.idf"
   ]
  },
  {
   "cell_type": "code",
   "execution_count": null,
   "id": "dbf14569-5e51-43e3-968c-3834892efc81",
   "metadata": {},
   "outputs": [],
   "source": [
    "import matplotlib.pyplot as plt"
   ]
  },
  {
   "cell_type": "code",
   "execution_count": null,
   "id": "c7d795db-ef4f-445d-8b48-df531da2b0f3",
   "metadata": {},
   "outputs": [],
   "source": [
    "plt.hist(inverted_text.get_normalized_page_rank(99.9).values(), density=True, bins=100)\n",
    "plt.xlabel(\"Data Values\")\n",
    "plt.ylabel(\"Probability Density\")\n",
    "plt.yscale('log')\n",
    "plt.ylim(10e-7, 10e1)\n",
    "plt.title(\"Density Histogram\")\n",
    "plt.show()"
   ]
  },
  {
   "cell_type": "code",
   "execution_count": null,
   "id": "7b0741b9-913b-443c-a161-1d690c00752b",
   "metadata": {},
   "outputs": [],
   "source": [
    "plt.hist(inverted_text.get_normalized_page_rank(99.995).values(), bins=200)\n",
    "plt.xlabel(\"Data Values\")\n",
    "plt.ylabel(\"Probability Density\")\n",
    "plt.yscale('log')\n",
    "plt.title(\"Density Histogram\")\n",
    "plt.show()"
   ]
  },
  {
   "cell_type": "code",
   "execution_count": null,
   "id": "4f7111fc-e43a-46f3-8d29-d8b0af5df6b8",
   "metadata": {},
   "outputs": [],
   "source": [
    "plt.hist(inverted_text.get_normalized_page_rank(99.999).values(), density=True, bins=100)\n",
    "plt.xlabel(\"Data Values\")\n",
    "plt.ylabel(\"Probability Density\")\n",
    "plt.yscale('log')\n",
    "plt.ylim(10e-7, 10e1)\n",
    "plt.title(\"Density Histogram\")\n",
    "plt.show()"
   ]
  }
 ],
 "metadata": {
  "celltoolbar": "Create Assignment",
  "colab": {
   "collapsed_sections": [],
   "name": "assignment3_gcp.ipynb",
   "provenance": [],
   "toc_visible": true
  },
  "kernelspec": {
   "display_name": "PySpark",
   "language": "python",
   "name": "pyspark"
  },
  "language_info": {
   "codemirror_mode": {
    "name": "ipython",
    "version": 3
   },
   "file_extension": ".py",
   "mimetype": "text/x-python",
   "name": "python",
   "nbconvert_exporter": "python",
   "pygments_lexer": "ipython3",
   "version": "3.10.8"
  }
 },
 "nbformat": 4,
 "nbformat_minor": 5
}
