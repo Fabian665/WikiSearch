{
 "cells": [
  {
   "cell_type": "markdown",
   "id": "a00e032c",
   "metadata": {
    "id": "hWgiQS0zkWJ5"
   },
   "source": [
    "***Important*** DO NOT CLEAR THE OUTPUT OF THIS NOTEBOOK AFTER EXECUTION!!!"
   ]
  },
  {
   "cell_type": "code",
   "execution_count": 3,
   "id": "5ac36d3a",
   "metadata": {
    "id": "c0ccf76b",
    "nbgrader": {
     "grade": false,
     "grade_id": "cell-Worker_Count",
     "locked": true,
     "schema_version": 3,
     "solution": false,
     "task": false
    },
    "outputId": "cf88b954-f39a-412a-d87e-660833e735b6"
   },
   "outputs": [
    {
     "name": "stdout",
     "output_type": "stream",
     "text": [
      "NAME          PLATFORM  PRIMARY_WORKER_COUNT  SECONDARY_WORKER_COUNT  STATUS   ZONE           SCHEDULED_DELETE\n",
      "cluster-e3dd  GCE       4                                             RUNNING  us-central1-a\n"
     ]
    }
   ],
   "source": [
    "# if the following command generates an error, you probably didn't enable \n",
    "# the cluster security option \"Allow API access to all Google Cloud services\"\n",
    "# under Manage Security → Project Access when setting up the cluster\n",
    "!gcloud dataproc clusters list --region us-central1"
   ]
  },
  {
   "cell_type": "markdown",
   "id": "51cf86c5",
   "metadata": {
    "id": "01ec9fd3"
   },
   "source": [
    "# Imports & Setup"
   ]
  },
  {
   "cell_type": "code",
   "execution_count": 1,
   "id": "bf199e6a",
   "metadata": {
    "id": "32b3ec57",
    "nbgrader": {
     "grade": false,
     "grade_id": "cell-Setup",
     "locked": true,
     "schema_version": 3,
     "solution": false,
     "task": false
    },
    "outputId": "fc0e315d-21e9-411d-d69c-5b97e4e5d629"
   },
   "outputs": [
    {
     "name": "stdout",
     "output_type": "stream",
     "text": [
      "\u001b[33mWARNING: Running pip as the 'root' user can result in broken permissions and conflicting behaviour with the system package manager. It is recommended to use a virtual environment instead: https://pip.pypa.io/warnings/venv\u001b[0m\u001b[33m\n",
      "\u001b[0m\u001b[33mWARNING: Running pip as the 'root' user can result in broken permissions and conflicting behaviour with the system package manager. It is recommended to use a virtual environment instead: https://pip.pypa.io/warnings/venv\u001b[0m\u001b[33m\n",
      "\u001b[0m\u001b[33mWARNING: Running pip as the 'root' user can result in broken permissions and conflicting behaviour with the system package manager. It is recommended to use a virtual environment instead: https://pip.pypa.io/warnings/venv\u001b[0m\u001b[33m\n",
      "\u001b[0m"
     ]
    }
   ],
   "source": [
    "!pip install -q google-cloud-storage==1.43.0\n",
    "!pip install -q graphframes\n",
    "!pip install -q gensim"
   ]
  },
  {
   "cell_type": "code",
   "execution_count": 49,
   "id": "d8f56ecd",
   "metadata": {
    "id": "5609143b",
    "nbgrader": {
     "grade": false,
     "grade_id": "cell-Imports",
     "locked": true,
     "schema_version": 3,
     "solution": false,
     "task": false
    },
    "outputId": "a24aa24b-aa75-4823-83ca-1d7deef0f0de"
   },
   "outputs": [
    {
     "name": "stderr",
     "output_type": "stream",
     "text": [
      "[nltk_data] Downloading package stopwords to /root/nltk_data...\n",
      "[nltk_data]   Package stopwords is already up-to-date!\n"
     ]
    },
    {
     "data": {
      "text/plain": [
       "True"
      ]
     },
     "execution_count": 49,
     "metadata": {},
     "output_type": "execute_result"
    }
   ],
   "source": [
    "import pyspark\n",
    "import sys\n",
    "from collections import Counter, OrderedDict, defaultdict\n",
    "import itertools\n",
    "from itertools import islice, count, groupby\n",
    "import pandas as pd\n",
    "import os\n",
    "import re\n",
    "from operator import itemgetter\n",
    "import nltk\n",
    "from gensim.parsing.porter import PorterStemmer\n",
    "from nltk.corpus import stopwords\n",
    "from time import time\n",
    "from pathlib import Path\n",
    "import pickle\n",
    "import pandas as pd\n",
    "from google.cloud import storage\n",
    "from math import log\n",
    "\n",
    "import hashlib\n",
    "def _hash(s):\n",
    "    return hashlib.blake2b(bytes(s, encoding='utf8'), digest_size=5).hexdigest()\n",
    "\n",
    "nltk.download('stopwords')"
   ]
  },
  {
   "cell_type": "code",
   "execution_count": 4,
   "id": "38a897f2",
   "metadata": {
    "id": "b10cc999",
    "nbgrader": {
     "grade": false,
     "grade_id": "cell-jar",
     "locked": true,
     "schema_version": 3,
     "solution": false,
     "task": false
    },
    "outputId": "8f93a7ec-71e0-49c1-fc81-9af385849a90"
   },
   "outputs": [
    {
     "name": "stdout",
     "output_type": "stream",
     "text": [
      "-rw-r--r-- 1 root root 247882 Mar  9 12:06 /usr/lib/spark/jars/graphframes-0.8.2-spark3.1-s_2.12.jar\n"
     ]
    }
   ],
   "source": [
    "# if nothing prints here you forgot to include the initialization script when starting the cluster\n",
    "!ls -l /usr/lib/spark/jars/graph*"
   ]
  },
  {
   "cell_type": "code",
   "execution_count": 5,
   "id": "47900073",
   "metadata": {
    "id": "d3f86f11",
    "nbgrader": {
     "grade": false,
     "grade_id": "cell-pyspark-import",
     "locked": true,
     "schema_version": 3,
     "solution": false,
     "task": false
    }
   },
   "outputs": [],
   "source": [
    "from pyspark.sql import *\n",
    "from pyspark.sql.functions import *\n",
    "from pyspark import SparkContext, SparkConf, SparkFiles\n",
    "from pyspark.sql import SQLContext\n",
    "from graphframes import *"
   ]
  },
  {
   "cell_type": "code",
   "execution_count": 6,
   "id": "72bed56b",
   "metadata": {
    "id": "5be6dc2a",
    "nbgrader": {
     "grade": false,
     "grade_id": "cell-spark-version",
     "locked": true,
     "schema_version": 3,
     "solution": false,
     "task": false
    },
    "outputId": "07b4e22b-a252-42fb-fe46-d9050e4e7ca8",
    "scrolled": true
   },
   "outputs": [
    {
     "data": {
      "text/html": [
       "\n",
       "            <div>\n",
       "                <p><b>SparkSession - hive</b></p>\n",
       "                \n",
       "        <div>\n",
       "            <p><b>SparkContext</b></p>\n",
       "\n",
       "            <p><a href=\"http://cluster-e3dd-m.us-central1-a.c.ir-ass3-414111.internal:45451\">Spark UI</a></p>\n",
       "\n",
       "            <dl>\n",
       "              <dt>Version</dt>\n",
       "                <dd><code>v3.3.2</code></dd>\n",
       "              <dt>Master</dt>\n",
       "                <dd><code>yarn</code></dd>\n",
       "              <dt>AppName</dt>\n",
       "                <dd><code>PySparkShell</code></dd>\n",
       "            </dl>\n",
       "        </div>\n",
       "        \n",
       "            </div>\n",
       "        "
      ],
      "text/plain": [
       "<pyspark.sql.session.SparkSession at 0x7f1223306590>"
      ]
     },
     "execution_count": 6,
     "metadata": {},
     "output_type": "execute_result"
    }
   ],
   "source": [
    "spark"
   ]
  },
  {
   "cell_type": "code",
   "execution_count": 7,
   "id": "cf74826f-66e0-4b93-8a1c-2ad8345d1230",
   "metadata": {
    "id": "7adc1bf5",
    "nbgrader": {
     "grade": false,
     "grade_id": "cell-bucket_name",
     "locked": false,
     "schema_version": 3,
     "solution": true,
     "task": false
    }
   },
   "outputs": [],
   "source": [
    "# Put your bucket name below and make sure you can access it without an error\n",
    "bucket_name = 'bgu-ir-ass3-fab-stem' \n",
    "full_path = f\"gs://{bucket_name}/\"\n",
    "\n",
    "client = storage.Client()"
   ]
  },
  {
   "cell_type": "code",
   "execution_count": 9,
   "id": "86ab0493-0f4b-40e7-a4ae-43252420e645",
   "metadata": {
    "id": "7adc1bf5",
    "nbgrader": {
     "grade": false,
     "grade_id": "cell-bucket_name",
     "locked": false,
     "schema_version": 3,
     "solution": true,
     "task": false
    }
   },
   "outputs": [],
   "source": [
    "paths=[]\n",
    "\n",
    "blobs = client.list_blobs(bucket_name)\n",
    "for b in blobs:\n",
    "    if b.name.startswith('multistream'):\n",
    "        paths.append(full_path+b.name)"
   ]
  },
  {
   "cell_type": "markdown",
   "id": "cac891c2",
   "metadata": {
    "id": "13ZX4ervQkku"
   },
   "source": [
    "***GCP setup is complete!*** If you got here without any errors you've earned 10 out of the 35 points of this part."
   ]
  },
  {
   "cell_type": "markdown",
   "id": "582c3f5e",
   "metadata": {
    "id": "c0b0f215"
   },
   "source": [
    "# Building an inverted index"
   ]
  },
  {
   "cell_type": "markdown",
   "id": "481f2044",
   "metadata": {
    "id": "02f81c72"
   },
   "source": [
    "Here, we read the entire corpus to an rdd, directly from Google Storage Bucket and use your code from Colab to construct an inverted index."
   ]
  },
  {
   "cell_type": "code",
   "execution_count": 10,
   "id": "e4c523e7",
   "metadata": {
    "id": "b1af29c9",
    "tags": []
   },
   "outputs": [
    {
     "name": "stderr",
     "output_type": "stream",
     "text": [
      "                                                                                \r"
     ]
    }
   ],
   "source": [
    "parquetFile = spark.read.parquet(*paths)\n",
    "doc_text_pairs = parquetFile.select(\"text\", \"id\").rdd\n",
    "doc_title_pairs = parquetFile.select(\"title\", \"id\").rdd"
   ]
  },
  {
   "cell_type": "markdown",
   "id": "0d7e2971",
   "metadata": {
    "id": "f6375562"
   },
   "source": [
    "We will count the number of pages to make sure we are looking at the entire corpus. The number of pages should be more than 6M"
   ]
  },
  {
   "cell_type": "code",
   "execution_count": 11,
   "id": "82881fbf",
   "metadata": {
    "id": "d89a7a9a",
    "tags": []
   },
   "outputs": [
    {
     "name": "stderr",
     "output_type": "stream",
     "text": [
      "                                                                                \r"
     ]
    }
   ],
   "source": [
    "# Count number of wiki pages\n",
    "N = parquetFile.count()"
   ]
  },
  {
   "cell_type": "markdown",
   "id": "701811af",
   "metadata": {
    "id": "gaaIoFViXyTg"
   },
   "source": [
    "Let's import the inverted index module. Note that you need to use the staff-provided version called `inverted_index_gcp.py`, which contains helper functions to writing and reading the posting files similar to the Colab version, but with writing done to a Google Cloud Storage bucket."
   ]
  },
  {
   "cell_type": "code",
   "execution_count": 12,
   "id": "121fe102",
   "metadata": {
    "id": "04371c88",
    "outputId": "327fe81b-80f4-4b3a-8894-e74720d92e35",
    "tags": []
   },
   "outputs": [
    {
     "name": "stdout",
     "output_type": "stream",
     "text": [
      "inverted_index_gcp.py\n"
     ]
    }
   ],
   "source": [
    "# if nothing prints here you forgot to upload the file inverted_index_gcp.py to the home dir\n",
    "%cd -q /home/dataproc\n",
    "!ls inverted_index_gcp.py"
   ]
  },
  {
   "cell_type": "code",
   "execution_count": 13,
   "id": "57c101a8",
   "metadata": {
    "id": "2d3285d8",
    "scrolled": true
   },
   "outputs": [],
   "source": [
    "# adding our python module to the cluster\n",
    "sc.addFile(\"/home/dataproc/inverted_index_gcp.py\")\n",
    "sys.path.insert(0,SparkFiles.getRootDirectory())"
   ]
  },
  {
   "cell_type": "code",
   "execution_count": 14,
   "id": "c259c402",
   "metadata": {
    "id": "2477a5b9"
   },
   "outputs": [],
   "source": [
    "from inverted_index_gcp import InvertedIndex"
   ]
  },
  {
   "cell_type": "markdown",
   "id": "5540c727",
   "metadata": {
    "id": "72bcf46a"
   },
   "source": [
    "**YOUR TASK (10 POINTS)**: Use your implementation of `word_count`, `reduce_word_counts`, `calculate_df`, and `partition_postings_and_write` functions from Colab to build an inverted index for all of English Wikipedia in under 2 hours.\n",
    "\n",
    "A few notes: \n",
    "1. The number of corpus stopwords below is a bit bigger than the colab version since we are working on the whole corpus and not just on one file.\n",
    "2. You need to slightly modify your implementation of  `partition_postings_and_write` because the signature of `InvertedIndex.write_a_posting_list` has changed and now includes an additional argument called `bucket_name` for the target bucket. See the module for more details.\n",
    "3. You are not allowed to change any of the code not coming from Colab. "
   ]
  },
  {
   "cell_type": "code",
   "execution_count": 15,
   "id": "4d97b412-3f77-474d-8a0a-502f5f2fd8c9",
   "metadata": {
    "id": "a4b6ee29",
    "nbgrader": {
     "grade": false,
     "grade_id": "cell-token2bucket",
     "locked": false,
     "schema_version": 3,
     "solution": true,
     "task": false
    }
   },
   "outputs": [],
   "source": [
    "# stemmer\n",
    "stemmer = PorterStemmer()\n",
    "\n",
    "\n",
    "\n",
    "english_stopwords = frozenset(stopwords.words('english'))\n",
    "corpus_stopwords = [\"category\", \"references\", \"also\", \"external\", \"links\", \n",
    "                    \"may\", \"first\", \"see\", \"history\", \"people\", \"one\", \"two\", \n",
    "                    \"part\", \"thumb\", \"including\", \"second\", \"following\", \n",
    "                    \"many\", \"however\", \"would\", \"became\"]\n",
    "\n",
    "all_stopwords = english_stopwords.union(corpus_stopwords)\n",
    "RE_WORD = re.compile(r\"\"\"[\\#\\@\\w](['\\-]?\\w){2,24}\"\"\", re.UNICODE)"
   ]
  },
  {
   "cell_type": "code",
   "execution_count": 16,
   "id": "38d3382e-c118-4892-a067-477255b3a2b9",
   "metadata": {
    "id": "a4b6ee29",
    "nbgrader": {
     "grade": false,
     "grade_id": "cell-token2bucket",
     "locked": false,
     "schema_version": 3,
     "solution": true,
     "task": false
    }
   },
   "outputs": [],
   "source": [
    "NUM_BUCKETS = 124\n",
    "def token2bucket_id(token):\n",
    "    return int(_hash(token),16) % NUM_BUCKETS  # if we plan on running this again, create seperate funcs for text, title\n",
    "\n",
    "def word_count(text, id):\n",
    "    ''' Count the frequency of each word in `text` (tf) that is not included in\n",
    "    `all_stopwords` and return entries that will go into our posting lists.\n",
    "    Parameters:\n",
    "    -----------\n",
    "    text: str\n",
    "      Text of one document\n",
    "    id: int\n",
    "      Document id\n",
    "    Returns:\n",
    "    --------\n",
    "    List of tuples\n",
    "      A list of (token, (doc_id, tf)) pairs\n",
    "      for example: [(\"Anarchism\", (12, 5)), ...]\n",
    "    '''\n",
    "    tokens = [token.group() for token in RE_WORD.finditer(text.lower())]\n",
    "    tokens = [stemmer.stem(token) for token in tokens if token not in all_stopwords]\n",
    "    word_count = Counter(tokens)\n",
    "    return [(token, (id, tf)) for token, tf in word_count.items()]\n",
    "\n",
    "def reduce_word_counts(unsorted_pl):\n",
    "    ''' Returns a sorted posting list by wiki_id.\n",
    "    Parameters:\n",
    "    -----------\n",
    "    unsorted_pl: list of tuples\n",
    "      A list of (wiki_id, tf) tuples\n",
    "    Returns:\n",
    "    --------\n",
    "    list of tuples\n",
    "      A sorted posting list.\n",
    "    '''\n",
    "    # YOUR CODE HERE\n",
    "    return sorted(unsorted_pl, key=itemgetter(0))\n",
    "\n",
    "def partition_postings_and_write(postings, base_dir):\n",
    "    ''' A function that partitions the posting lists into buckets, writes out\n",
    "    all posting lists in a bucket to disk, and returns the posting locations for\n",
    "    each bucket. Partitioning should be done through the use of `token2bucket`\n",
    "    above. Writing to disk should use the function  `write_a_posting_list`, a\n",
    "    static method implemented in inverted_index_colab.py under the InvertedIndex\n",
    "    class.\n",
    "    Parameters:\n",
    "    -----------\n",
    "    postings: RDD\n",
    "      An RDD where each item is a (w, posting_list) pair.\n",
    "    Returns:\n",
    "    --------\n",
    "    RDD\n",
    "      An RDD where each item is a posting locations dictionary for a bucket. The\n",
    "      posting locations maintain a list for each word of file locations and\n",
    "      offsets its posting list was written to. See `write_a_posting_list` for\n",
    "      more details.\n",
    "    '''\n",
    "    buckets = postings.map(lambda x: (token2bucket_id(x[0]), x))\n",
    "    buckets = buckets.groupByKey().mapValues(list)\n",
    "    return buckets.map(lambda x: InvertedIndex.write_a_posting_list(x, base_dir, bucket_name))\n",
    "\n",
    "def calculate_df(postings):\n",
    "    ''' Takes a posting list RDD and calculate the df for each token.\n",
    "    Parameters:\n",
    "    -----------\n",
    "    postings: RDD\n",
    "      An RDD where each element is a (token, posting_list) pair.\n",
    "    Returns:\n",
    "    --------\n",
    "    RDD\n",
    "      An RDD where each element is a (token, df) pair.\n",
    "    '''\n",
    "    return postings.mapValues(len)\n",
    "\n",
    "# def calculate_tf(postings):\n",
    "#     return postings.mapValues(lambda x: x[1]).reduceByKey(lambda a, b: a + b)\n",
    "\n",
    "# def calculate_tf_per_doc(postings):\n",
    "#     return postings.groupByKey().mapValues(dict)\n",
    "\n",
    "def calculate_document_length(postings):\n",
    "    return postings.map(lambda x: (x[1][0], x[1][1])).reduceByKey(lambda a, b: a + b)"
   ]
  },
  {
   "cell_type": "code",
   "execution_count": 17,
   "id": "8de74a8a",
   "metadata": {
    "id": "0b5d7296",
    "nbgrader": {
     "grade": false,
     "grade_id": "cell-index_construction",
     "locked": false,
     "schema_version": 3,
     "solution": true,
     "task": false
    }
   },
   "outputs": [
    {
     "name": "stderr",
     "output_type": "stream",
     "text": [
      "                                                                                \r"
     ]
    }
   ],
   "source": [
    "# word counts map\n",
    "word_counts_text = doc_text_pairs.flatMap(lambda x: word_count(x[0], x[1]))\n",
    "postings_text = word_counts_text.groupByKey().mapValues(reduce_word_counts)\n",
    "# filtering postings and calculate df\n",
    "postings_text_filtered = postings_text.filter(lambda x: len(x[1])>50)\n",
    "w2df_text = calculate_df(postings_text_filtered)\n",
    "w2df_text_dict = w2df_text.collectAsMap()\n",
    "# partition posting lists and write out\n",
    "_ = partition_postings_and_write(postings_text_filtered, './postings_gcp/text/').collect()"
   ]
  },
  {
   "cell_type": "code",
   "execution_count": 18,
   "id": "55c8764e",
   "metadata": {
    "id": "0b5d7296",
    "nbgrader": {
     "grade": false,
     "grade_id": "cell-index_construction",
     "locked": false,
     "schema_version": 3,
     "solution": true,
     "task": false
    }
   },
   "outputs": [
    {
     "name": "stderr",
     "output_type": "stream",
     "text": [
      "                                                                                \r"
     ]
    }
   ],
   "source": [
    "# word counts map\n",
    "word_counts_title = doc_title_pairs.flatMap(lambda x: word_count(x[0], x[1]))\n",
    "postings_title = word_counts_title.groupByKey().mapValues(reduce_word_counts)\n",
    "# filtering postings and calculate df\n",
    "postings_title_filtered = postings_title.filter(lambda x: len(x[1])>10)\n",
    "w2df_title = calculate_df(postings_title_filtered)\n",
    "w2df_title_dict = w2df_title.collectAsMap()\n",
    "# partition posting lists and write out\n",
    "_ = partition_postings_and_write(postings_title_filtered, './postings_gcp/title/').collect()"
   ]
  },
  {
   "cell_type": "code",
   "execution_count": 19,
   "id": "ab3296f4",
   "metadata": {
    "id": "Opl6eRNLM5Xv",
    "nbgrader": {
     "grade": true,
     "grade_id": "collect-posting",
     "locked": true,
     "points": 0,
     "schema_version": 3,
     "solution": false,
     "task": false
    }
   },
   "outputs": [],
   "source": [
    "# collect all posting lists locations into one super-set\n",
    "super_posting_text_locs = defaultdict(list)\n",
    "for blob in client.list_blobs(bucket_name, prefix='postings_gcp/text'):\n",
    "    if not blob.name.endswith(\"pickle\"):\n",
    "        continue\n",
    "    with blob.open(\"rb\") as f:\n",
    "        posting_locs = pickle.load(f)\n",
    "        for k, v in posting_locs.items():\n",
    "            super_posting_text_locs[k].extend(v)\n",
    "    \n",
    "    \n",
    "# collect all posting lists locations into one super-set\n",
    "super_posting_title_locs = defaultdict(list)\n",
    "for blob in client.list_blobs(bucket_name, prefix='postings_gcp/title'):\n",
    "    if not blob.name.endswith(\"pickle\"):\n",
    "        continue\n",
    "    with blob.open(\"rb\") as f:\n",
    "        posting_locs = pickle.load(f)\n",
    "        for k, v in posting_locs.items():\n",
    "            super_posting_title_locs[k].extend(v)"
   ]
  },
  {
   "cell_type": "code",
   "execution_count": 20,
   "id": "077595bf-3438-4373-868c-a76b2048e24e",
   "metadata": {},
   "outputs": [
    {
     "name": "stderr",
     "output_type": "stream",
     "text": [
      "                                                                                \r"
     ]
    }
   ],
   "source": [
    "# =============================================\n",
    "# takes a while so run only when you need it!!!\n",
    "# =============================================\n",
    "\n",
    "# calculate document lengths:\n",
    "title_doc_length = calculate_document_length(word_counts_title)\n",
    "text_doc_length = calculate_document_length(word_counts_text)\n",
    "\n",
    "# title_length = title_doc_length.collectAsMap()\n",
    "# document_length = text_doc_length.collectAsMap()\n",
    "\n",
    "total_title_length = title_doc_length.map(lambda x: x[1]).sum()\n",
    "total_title_docs = title_doc_length.count()\n",
    "\n",
    "# Calculate total length and total number of documents for texts:\n",
    "total_text_length = text_doc_length.map(lambda x: x[1]).sum()\n",
    "total_text_docs = text_doc_length.count()\n",
    "\n",
    "# Calculate avdl:\n",
    "average_title_length = total_title_length / total_title_docs\n",
    "average_text_length = total_text_length / total_text_docs"
   ]
  },
  {
   "cell_type": "markdown",
   "id": "f6f66e3a",
   "metadata": {
    "id": "VhAV0A6dNZWY"
   },
   "source": [
    "Putting it all together"
   ]
  },
  {
   "cell_type": "code",
   "execution_count": null,
   "id": "31a516e2",
   "metadata": {
    "id": "yVjnTvQsegc-"
   },
   "outputs": [],
   "source": [
    "def generate_graph(pages):\n",
    "    ''' Compute the directed graph generated by wiki links.\n",
    "    Parameters:\n",
    "    -----------\n",
    "    pages: RDD\n",
    "      An RDD where each row consists of one wikipedia articles with 'id' and\n",
    "      'anchor_text'.\n",
    "    Returns:\n",
    "    --------\n",
    "    edges: RDD\n",
    "      An RDD where each row represents an edge in the directed graph created by\n",
    "      the wikipedia links. The first entry should the source page id and the\n",
    "      second entry is the destination page id. No duplicates should be present.\n",
    "    vertices: RDD\n",
    "      An RDD where each row represents a vetrix (node) in the directed graph\n",
    "      created by the wikipedia links. No duplicates should be present.\n",
    "    '''\n",
    "    # YOUR CODE HERE\n",
    "    edges = pages.flatMapValues(lambda x: x).mapValues(lambda x: x[0]).distinct()\n",
    "    vertices = edges.flatMap(lambda x: x).distinct().map(lambda x: (x, ))\n",
    "    return edges, vertices"
   ]
  },
  {
   "cell_type": "code",
   "execution_count": null,
   "id": "6bc05ba3",
   "metadata": {
    "id": "db005700",
    "nbgrader": {
     "grade": false,
     "grade_id": "cell-PageRank",
     "locked": false,
     "schema_version": 3,
     "solution": true,
     "task": false
    }
   },
   "outputs": [],
   "source": [
    "# pages_links = parquetFile.select (\"id\",\"anchor_text\").rdd\n",
    "# # construct the graph \n",
    "# edges, vertices = generate_graph(pages_links)\n",
    "# # compute PageRank\n",
    "# edgesDF = edges.toDF(['src', 'dst']).repartition(124, 'src')\n",
    "# verticesDF = vertices.toDF(['id']).repartition(124, 'id')\n",
    "# g = GraphFrame(verticesDF, edgesDF)\n",
    "# pr_results = g.pageRank(resetProbability=0.15, maxIter=10)\n",
    "# pr = pr_results.vertices.select(\"id\", \"pagerank\")\n",
    "# page_rank = {row['id']: row['pagerank'] for row in pr.collect()}"
   ]
  },
  {
   "cell_type": "code",
   "execution_count": null,
   "id": "97368cab-13c7-40e0-837a-02bcad554b9c",
   "metadata": {},
   "outputs": [],
   "source": [
    "# # Paths\n",
    "# # Using user page views (as opposed to spiders and automated traffic) for the\n",
    "# # month of August 2021\n",
    "# pv_path = 'https://dumps.wikimedia.org/other/pageview_complete/monthly/2021/2021-08/pageviews-202108-user.bz2'\n",
    "# p = Path(pv_path)\n",
    "# # pv_name = p.name\n",
    "# # pv_temp = f'{p.stem}-4dedup.txt'\n",
    "# pv_clean = f'{p.stem}.pkl'"
   ]
  },
  {
   "cell_type": "code",
   "execution_count": null,
   "id": "7b6ba472-876f-40de-afc2-38350d38795c",
   "metadata": {},
   "outputs": [],
   "source": [
    "# # Download the file (2.3GB)\n",
    "# !wget -N $pv_path"
   ]
  },
  {
   "cell_type": "code",
   "execution_count": null,
   "id": "bda5cad1-9c80-437f-8466-5c7e77dd8727",
   "metadata": {},
   "outputs": [],
   "source": [
    "# # Filter for English pages, and keep just two fields: article ID (3) and monthly\n",
    "# # total number of page views (5). Then, remove lines with article id or page\n",
    "# # view values that are not a sequence of digits.\n",
    "# !bzcat $pv_name | grep \"^en\\.wikipedia\" | cut -d' ' -f3,5 | grep -P \"^\\d+\\s\\d+$\" > $pv_temp"
   ]
  },
  {
   "cell_type": "code",
   "execution_count": null,
   "id": "1bbdd170-278c-405c-9e0d-3e6be582f660",
   "metadata": {},
   "outputs": [],
   "source": [
    "# # Create a Counter (dictionary) that sums up the pages views for the same\n",
    "# # article, resulting in a mapping from article id to total page views.\n",
    "# wid2pv = Counter()\n",
    "# with open(pv_temp, 'rt') as f:\n",
    "#     for line in f:\n",
    "#         parts = line.split(' ')\n",
    "#         wid2pv.update({int(parts[0]): int(parts[1])})"
   ]
  },
  {
   "cell_type": "code",
   "execution_count": null,
   "id": "3069ff7d-c843-43ce-9ee6-bdb90549cb6b",
   "metadata": {},
   "outputs": [],
   "source": [
    "# # write out the counter as binary file (pickle it)\n",
    "# with open(pv_clean, 'wb') as f:\n",
    "#     pickle.dump(wid2pv, f)\n",
    "# # read in the counter\n",
    "# with open('pageviews-202108-user.pkl', 'rb') as f:\n",
    "#     wid2pv = pickle.loads(f.read())"
   ]
  },
  {
   "cell_type": "code",
   "execution_count": 21,
   "id": "b0b9ceb8-181f-465c-b5df-a03945e7e0cd",
   "metadata": {
    "id": "54vqT_0WNc3w"
   },
   "outputs": [],
   "source": [
    "# ======================================================\n",
    "# not needed if you download the pickles from the bucket\n",
    "# ======================================================\n",
    " \n",
    "# Create inverted index instance\n",
    "inverted_title = InvertedIndex(page_rank=None)\n",
    "inverted_text = InvertedIndex(page_rank=None)\n",
    "\n",
    "# Adding the posting locations dictionary to the inverted index\n",
    "inverted_title.posting_locs = super_posting_title_locs\n",
    "inverted_text.posting_locs = super_posting_text_locs\n",
    "\n",
    "# Add the token - df dictionary to the inverted index\n",
    "inverted_title.df = w2df_title_dict\n",
    "inverted_text.df = w2df_text_dict\n",
    "\n",
    "inverted_title.corpus_size = N\n",
    "inverted_text.corpus_size = N\n",
    "\n",
    "# add these later!!\n",
    "# inverted_title.doc_len = title_length\n",
    "# inverted_text.doc_len = document_length\n",
    "\n",
    "inverted_title.avdl = average_title_length\n",
    "inverted_text.avdl = average_text_length\n",
    "\n",
    "inverted_title.set_idf()\n",
    "inverted_title.set_idf_bm25()\n",
    "\n",
    "inverted_text.set_idf()\n",
    "inverted_text.set_idf_bm25()\n",
    "\n",
    "# write the global stats out\n",
    "inverted_title.write_index('.', 'index_title')\n",
    "inverted_text.write_index('.', 'index_text')"
   ]
  },
  {
   "cell_type": "code",
   "execution_count": 25,
   "id": "d09ed462-c615-4a27-bf46-10cb64f72d19",
   "metadata": {
    "id": "54vqT_0WNc3w"
   },
   "outputs": [
    {
     "name": "stdout",
     "output_type": "stream",
     "text": [
      "Copying file://index_title.pkl [Content-Type=application/octet-stream]...\n",
      "/ [1 files][  5.9 MiB/  5.9 MiB]                                                \n",
      "Operation completed over 1 objects/5.9 MiB.                                      \n",
      "Copying file://index_text.pkl [Content-Type=application/octet-stream]...\n",
      "/ [1 files][ 27.6 MiB/ 27.6 MiB]                                                \n",
      "Operation completed over 1 objects/27.6 MiB.                                     \n"
     ]
    }
   ],
   "source": [
    "#################\n",
    "# ADD BACK LATER#\n",
    "#################\n",
    "\n",
    "# # upload to gs\n",
    "# ############################################################\n",
    "# # Only uncomment this if you updated the index properly!!!!#\n",
    "# ############################################################\n",
    "index_title_src = \"index_title.pkl\"\n",
    "index_text_src = \"index_text.pkl\"\n",
    "index_title_dst = f'gs://{bucket_name}/pickles/{index_title_src}'\n",
    "index_text_dst = f'gs://{bucket_name}/pickles/{index_text_src}'\n",
    "!gsutil cp $index_title_src $index_title_dst\n",
    "!gsutil cp $index_text_src $index_text_dst"
   ]
  },
  {
   "cell_type": "code",
   "execution_count": null,
   "id": "8f880d59",
   "metadata": {
    "id": "msogGbJ3c8JF",
    "nbgrader": {
     "grade": false,
     "grade_id": "cell-index_dst_size",
     "locked": true,
     "schema_version": 3,
     "solution": false,
     "task": false
    }
   },
   "outputs": [],
   "source": [
    "#################\n",
    "# ADD BACK LATER#\n",
    "#################\n",
    "\n",
    "# !gsutil ls -lh $index_title_dst\n",
    "# !gsutil ls -lh $index_text_dst"
   ]
  },
  {
   "cell_type": "code",
   "execution_count": 89,
   "id": "6b33f050-c88c-4766-bfef-ed8514047d13",
   "metadata": {},
   "outputs": [
    {
     "name": "stdout",
     "output_type": "stream",
     "text": [
      "Copying gs://bgu-ir-ass3-fab/postings_gcp/title/inverted_title_v1.pkl...\n",
      "/ [1 files][314.9 MiB/314.9 MiB]                                                \n",
      "Operation completed over 1 objects/314.9 MiB.                                    \n"
     ]
    }
   ],
   "source": [
    "!gsutil cp gs://bgu-ir-ass3-fab/postings_gcp/title/inverted_title_v1.pkl /home/dataproc"
   ]
  },
  {
   "cell_type": "code",
   "execution_count": 94,
   "id": "42e688e9-f391-4762-b1d2-75c7c767b4b1",
   "metadata": {},
   "outputs": [
    {
     "name": "stdout",
     "output_type": "stream",
     "text": [
      "Copying file:///home/dataproc/doc_len_title.pkl [Content-Type=application/octet-stream]...\n",
      "/ [1 files][ 42.3 MiB/ 42.3 MiB]                                                \n",
      "Operation completed over 1 objects/42.3 MiB.                                     \n"
     ]
    }
   ],
   "source": [
    "!gsutil cp /home/dataproc/doc_len_title.pkl gs://bgu-ir-ass3-fab-stem/pickles/"
   ]
  },
  {
   "cell_type": "code",
   "execution_count": null,
   "id": "fa14121e",
   "metadata": {},
   "outputs": [],
   "source": [
    "# # path = '/home/dataproc'\n",
    "# for blob in client.list_blobs(bucket_name):\n",
    "#     if blob.name.endswith('pageviews-202108-user.pkl'):\n",
    "#         file_name = blob.name[blob.name.rfind('/')+1:]\n",
    "#         blob.download_to_filename(file_name)"
   ]
  },
  {
   "cell_type": "code",
   "execution_count": null,
   "id": "53c73591",
   "metadata": {},
   "outputs": [],
   "source": [
    "# with open('inverted_title_v1.pkl', 'rb') as file:\n",
    "#     inverted_title = pickle.load(file)\n",
    "    \n",
    "# with open('inverted_text_v1.pkl', 'rb') as file:\n",
    "#     inverted_text = pickle.load(file)"
   ]
  },
  {
   "cell_type": "code",
   "execution_count": null,
   "id": "23442283-18e0-474b-a22e-cbd9deba36c2",
   "metadata": {},
   "outputs": [],
   "source": [
    "# text_doc_len = inverted_text.doc_len.copy()\n",
    "# title_doc_len = inverted_title.doc_len.copy()"
   ]
  },
  {
   "cell_type": "code",
   "execution_count": null,
   "id": "1740c012",
   "metadata": {
    "tags": []
   },
   "outputs": [],
   "source": [
    "# k1 = 1.2\n",
    "# k3 = 0\n",
    "# b = 0.5\n",
    "\n",
    "\n",
    "# # testing:\n",
    "\n",
    "# def retrieve_posting_list_title(query_word: str, bucket_name: str):\n",
    "#     return inverted_title.read_a_posting_list(base_dir='.', w=query_word, bucket_name=bucket_name)\n",
    "\n",
    "# def retrieve_posting_list_text(query_word: str, bucket_name: str):\n",
    "#     pl = inverted_text.read_a_posting_list(base_dir='.', w=query_word, bucket_name=bucket_name)\n",
    "#     # if len(pl) > 1000:\n",
    "#         # pl = sorted(pl, key=itemgetter(1))\n",
    "#         # pl = sorted(pl[:1000], key=itemgetter(0))\n",
    "#     return pl\n",
    "\n",
    "# def calculate_bm25_per_tf(token, doc_id_tf, inverted):\n",
    "#     doc_id, tf = doc_id_tf\n",
    "#     B = 1 - b + b * inverted.doc_len.get(doc_id, inverted.avdl)\n",
    "#     return ((k1 + 1) / (B * k1 + tf)) * ((inverted.corpus_size + 1) /inverted.idf_bm25[token])\n",
    "\n",
    "\n",
    "# def reduce_by_key(postings_lists):\n",
    "#     # print(postings_lists)\n",
    "#     # print(postings_lists)\n",
    "#     bad_indices = []\n",
    "#     for index, pl in enumerate(postings_lists):\n",
    "#         if len(pl) == 0:\n",
    "#             bad_indices.append(index)\n",
    "#     for bad_index in bad_indices[::-1]:\n",
    "#         del postings_lists[bad_index]\n",
    "#     gens = [(item for item in pl) for pl in postings_lists]\n",
    "#     items = [next(gen) for gen in gens]\n",
    "\n",
    "#     combined = []\n",
    "#     while any(tf != 0 for _, tf in items) and len(postings_lists) > 0:\n",
    "#         # index, (doc_id, _) = min(enumerate(items), key=lambda x: x[1][0])\n",
    "        \n",
    "#         min_index = None\n",
    "#         min_value = float('inf')  # Initialize with a very large value\n",
    "\n",
    "#         for i, (doc_id, _) in enumerate(items):\n",
    "#             if doc_id < min_value:  # Check if we have a new minimum\n",
    "#                 min_index = i\n",
    "#                 min_value = doc_id\n",
    "\n",
    "#         index, doc_id = min_index, min_value\n",
    "#         for index, item in enumerate(items):\n",
    "#             if item[0] == doc_id:\n",
    "#                 try:\n",
    "#                     items[index] = next(gens[index])\n",
    "#                 except StopIteration:\n",
    "#                     items[index] = (float('inf'), 0)\n",
    "#     return combined\n",
    "\n",
    "# def query(query: str, bucket_name: str):\n",
    "#     print('begin')\n",
    "#     tokens = [token.group() for token in RE_WORD.finditer(query.lower())]\n",
    "#     tokens = [token for token in tokens if token not in all_stopwords]\n",
    "#     print('pl')\n",
    "#     token_pl_title = {token: retrieve_posting_list_title(token, bucket_name) for token in tokens}\n",
    "#     token_pl_text = {token: retrieve_posting_list_text(token, bucket_name) for token in tokens}\n",
    "\n",
    "#     print('bm25 title')\n",
    "#     bm25_per_term_doc_title = []\n",
    "#     for token in token_pl_title.keys():\n",
    "#         curr_term = []\n",
    "#         for doc_id, tf in token_pl_title[token]:\n",
    "#             curr_term.append((doc_id, calculate_bm25_per_tf(token, (doc_id, tf), inverted_title)))\n",
    "#         bm25_per_term_doc_title.append(curr_term)\n",
    "\n",
    "#     print('bm25 text')\n",
    "#     bm25_per_term_doc_text = []\n",
    "#     for token in token_pl_title.keys():\n",
    "#         curr_term = []\n",
    "#         for doc_id, tf in token_pl_text[token]:\n",
    "#             curr_term.append((doc_id, calculate_bm25_per_tf(token, (doc_id, tf), inverted_text)))\n",
    "#         bm25_per_term_doc_text.append(curr_term)\n",
    "\n",
    "#     print('reduce title')\n",
    "#     # print(bm25_per_term_doc)\n",
    "#     bm25_title = reduce_by_key(bm25_per_term_doc_title)\n",
    "#     print('reduce text')\n",
    "#     bm25_title = list(map(lambda x: (x[0], x[1]), bm25_title))\n",
    "#     bm25_text = reduce_by_key(bm25_per_term_doc_text)\n",
    "#     print('reduce together')\n",
    "#     # bm25_text = list(map(lambda x: (x[0], x[1]), bm25_text))\n",
    "#     bm25 = reduce_by_key([bm25_title, bm25_text])\n",
    "#     bm25 = list(map(lambda x: (x[0], sqrt(inverted_text.pagerank_normalized.get(x[0],0.2) + 1) * (x[1] ** 3)), bm25))\n",
    "\n",
    "#     return sorted(bm25, key=lambda x: x[1], reverse=True)"
   ]
  },
  {
   "cell_type": "code",
   "execution_count": null,
   "id": "163b2486-e19b-4e84-a76c-62252c0b1ebe",
   "metadata": {},
   "outputs": [],
   "source": [
    "#################\n",
    "# ADD BACK LATER#\n",
    "#################\n",
    "\n",
    "# def update_attribute(instance, attribute_name, new_data):\n",
    "#     \"\"\"\n",
    "#     Updates the specified attribute of an object instance with new data.\n",
    "\n",
    "#     Args:\n",
    "#         instance: The object instance to modify.\n",
    "#         attribute_name (str): The name of the attribute to update.\n",
    "#         new_data: The new value to assign to the attribute.\n",
    "\n",
    "#     Raises:\n",
    "#         AttributeError: If the object does not have the specified attribute.\n",
    "#     \"\"\"\n",
    "\n",
    "#     if hasattr(instance, attribute_name) and len(getattr(instance, attribute_name)) > 0:\n",
    "#         raise AttributeError(f\"Object already has '{attribute_name}'\")\n",
    "\n",
    "#     setattr(instance, attribute_name, new_data)\n",
    "\n",
    "# def update_pickle(instance, filename, new_data):\n",
    "#     for attr, data in new_data.items():\n",
    "#         update_attribute(instance, attr, data)\n",
    "#     instance._posting_list = []\n",
    "#     instance.write_index('.', filename)\n",
    "#     index_title_src = f'{filename}.pkl'\n",
    "#     index_title_dst = f'gs://{bucket_name}/postings_gcp/title/{index_title_src}'\n",
    "#     !gsutil cp $index_title_src $index_title_dst\n",
    "\n",
    "# if False:\n",
    "#     text_new_data = {\n",
    "#     }\n",
    "\n",
    "#     title_new_data = {\n",
    "#     }\n",
    "    \n",
    "#     update_pickle(inverted_text, 'inverted_text_v1', text_new_data)\n",
    "#     update_pickle(inverted_title, 'inverted_title_v1', title_new_data)"
   ]
  },
  {
   "cell_type": "code",
   "execution_count": 78,
   "id": "8cba3d8c-dfee-4822-89df-a066d923f76d",
   "metadata": {},
   "outputs": [
    {
     "data": {
      "text/plain": [
       "<module 'search_backend' from '/home/dataproc/search_backend.py'>"
      ]
     },
     "execution_count": 78,
     "metadata": {},
     "output_type": "execute_result"
    }
   ],
   "source": [
    "import search_backend as se\n",
    "from importlib import reload\n",
    "reload(se)"
   ]
  },
  {
   "cell_type": "code",
   "execution_count": 79,
   "id": "eb48be66-9e80-4099-8999-f9b24146505d",
   "metadata": {},
   "outputs": [],
   "source": [
    "search = se.Search()"
   ]
  },
  {
   "cell_type": "code",
   "execution_count": 123,
   "id": "cc996b9c-2419-41c6-8cb6-3154e2c17ebc",
   "metadata": {},
   "outputs": [
    {
     "name": "stdout",
     "output_type": "stream",
     "text": [
      "['capitalism']\n",
      "['capit']\n",
      "begin\n",
      "pl\n",
      "reduce together\n"
     ]
    },
    {
     "data": {
      "text/plain": [
       "[('5902', 1104.7302586959106),\n",
       " ('5416', 1078.9425688858114),\n",
       " ('257210', 966.2845587255763),\n",
       " ('1944', 941.6985231026414),\n",
       " ('255627', 906.7860887159975),\n",
       " ('33728', 902.1291634936983),\n",
       " ('412425', 892.1223383106166),\n",
       " ('58829', 886.6012795996546),\n",
       " ('14094649', 882.5025738645519),\n",
       " ('2371868', 868.197504425741),\n",
       " ('2384714', 865.7312475987383),\n",
       " ('4504070', 849.7613040183572),\n",
       " ('181337', 843.8233859650637),\n",
       " ('1168152', 842.9052865367054),\n",
       " ('67243440', 833.2585325829679),\n",
       " ('4967816', 828.6953617549281),\n",
       " ('33652271', 827.383036726791),\n",
       " ('41914', 826.4755028746036),\n",
       " ('1461479', 825.1591939822392),\n",
       " ('505878', 824.2450667606756),\n",
       " ('2988488', 823.4799844102241),\n",
       " ('1075971', 821.3561859897849),\n",
       " ('83496', 818.185982751052),\n",
       " ('275150', 816.7305814138087),\n",
       " ('29665', 816.0940768718632),\n",
       " ('181293', 815.0447797834568),\n",
       " ('1757203', 813.5820284674861),\n",
       " ('3326582', 810.9426173529515),\n",
       " ('11817227', 808.3633174601748),\n",
       " ('24627377', 807.4667432982505),\n",
       " ('413896', 807.0799107354933),\n",
       " ('1007643', 803.6569876506627),\n",
       " ('291328', 801.8628387703876),\n",
       " ('59035687', 796.7889709683233),\n",
       " ('188432', 796.4555518976995),\n",
       " ('160355', 793.8774541898752),\n",
       " ('1307696', 792.4540296457227),\n",
       " ('73125', 792.1932377555477),\n",
       " ('24289019', 791.3643150560042),\n",
       " ('45802', 784.8970630253457),\n",
       " ('21602079', 784.0126858912034),\n",
       " ('447351', 783.239485789186),\n",
       " ('30428822', 782.733621833592),\n",
       " ('15294', 782.5120606118364),\n",
       " ('66289118', 782.2018223034174),\n",
       " ('2007351', 778.6561902717519),\n",
       " ('2777609', 778.5580080891007),\n",
       " ('15840903', 778.0987240883575),\n",
       " ('45663332', 777.850356325774),\n",
       " ('38492603', 776.7007871251622),\n",
       " ('29897892', 774.4161263793883),\n",
       " ('1494050', 772.6846380256655),\n",
       " ('45804', 772.0580250019385),\n",
       " ('3278380', 771.7127904507954),\n",
       " ('1377529', 770.6588695868927),\n",
       " ('40841303', 769.8404009467138),\n",
       " ('412629', 769.234497796042),\n",
       " ('50402549', 767.7273588158829),\n",
       " ('2006826', 765.6870546080869),\n",
       " ('176790', 765.6651278576435),\n",
       " ('163062', 763.715298331739),\n",
       " ('18673', 761.8883705700896),\n",
       " ('4711820', 760.7714390793805),\n",
       " ('691293', 758.1440054726805),\n",
       " ('3908696', 756.9718314283684),\n",
       " ('37759538', 756.8474836140325),\n",
       " ('695167', 754.5392445308548),\n",
       " ('850219', 751.7407350086917),\n",
       " ('61288648', 749.5044089980213),\n",
       " ('4342271', 748.1935746952929),\n",
       " ('2202041', 746.7407815288195),\n",
       " ('21224339', 746.5988573926909),\n",
       " ('15016776', 746.2649135467228),\n",
       " ('149578', 746.2426526292619),\n",
       " ('42363093', 743.6993224710147),\n",
       " ('4137871', 743.2279948943418),\n",
       " ('3079085', 741.2483409301925),\n",
       " ('2899731', 739.5982137394318),\n",
       " ('403875', 738.3864698276578),\n",
       " ('5249', 737.7739085442032),\n",
       " ('43449898', 735.9436859089229),\n",
       " ('494807', 735.1025110614337),\n",
       " ('575052', 735.0442816620207),\n",
       " ('1324670', 734.007293881295),\n",
       " ('1502499', 730.3127438851513),\n",
       " ('2521189', 729.6548041695277),\n",
       " ('1008653', 723.2004226322525),\n",
       " ('39353038', 723.1077407623166),\n",
       " ('62636940', 721.337878882197),\n",
       " ('6232594', 720.9952020192676),\n",
       " ('24127204', 720.8890479782015),\n",
       " ('30108419', 719.316637975477),\n",
       " ('9315917', 716.4951888365349),\n",
       " ('3235210', 716.0850179321397),\n",
       " ('53135263', 715.8180858396836),\n",
       " ('5170842', 715.4335704536185),\n",
       " ('22611959', 714.5316335352661),\n",
       " ('1878743', 713.9694911349018),\n",
       " ('215741', 713.6008670729295),\n",
       " ('38519448', 713.2456823637974)]"
      ]
     },
     "execution_count": 123,
     "metadata": {},
     "output_type": "execute_result"
    }
   ],
   "source": [
    "text = 'Capitalism'\n",
    "print(tokens := [token.group() for token in RE_WORD.finditer(text.lower())])\n",
    "print([stemmer.stem(token) for token in tokens if token not in all_stopwords])\n",
    "search.search_query(text)"
   ]
  },
  {
   "cell_type": "code",
   "execution_count": 90,
   "id": "5c4669f8-4502-4b09-a22d-5d8da19ceca6",
   "metadata": {},
   "outputs": [],
   "source": [
    "with open('inverted_title_v1.pkl', 'rb') as f:\n",
    "    old_title_index = pickle.load(f)"
   ]
  },
  {
   "cell_type": "code",
   "execution_count": 41,
   "id": "58ddcabc-421d-4ca3-a71b-db80aa2554c5",
   "metadata": {},
   "outputs": [],
   "source": [
    "pagerank = old_text_index.pagerank_normalized.copy()"
   ]
  },
  {
   "cell_type": "code",
   "execution_count": 42,
   "id": "97dfefa0-0069-41fb-81a8-b70efe578a03",
   "metadata": {},
   "outputs": [
    {
     "data": {
      "text/plain": [
       "0.2542812351747581"
      ]
     },
     "execution_count": 42,
     "metadata": {},
     "output_type": "execute_result"
    }
   ],
   "source": [
    "pagerank[12]"
   ]
  },
  {
   "cell_type": "code",
   "execution_count": 43,
   "id": "bc316f62-d3ba-499e-bc01-9c0ac756369e",
   "metadata": {},
   "outputs": [],
   "source": [
    "with open('pagerank_normalized.pkl', 'wb') as f:\n",
    "    pickle.dump(pagerank, f)"
   ]
  },
  {
   "cell_type": "code",
   "execution_count": 97,
   "id": "3bf97b3c-d053-45d9-859c-37fa4150bbb1",
   "metadata": {},
   "outputs": [
    {
     "name": "stdout",
     "output_type": "stream",
     "text": [
      "['apollo', 'moon', 'landing', 'date']\n"
     ]
    },
    {
     "data": {
      "text/plain": [
       "['apollo', 'moon', 'land', 'date']"
      ]
     },
     "execution_count": 97,
     "metadata": {},
     "output_type": "execute_result"
    }
   ],
   "source": []
  },
  {
   "cell_type": "code",
   "execution_count": 91,
   "id": "e00ebf1f-5d7a-4c15-adc3-8c87f74c8160",
   "metadata": {},
   "outputs": [],
   "source": [
    "doc_len_title = old_title_index.doc_len.copy()"
   ]
  },
  {
   "cell_type": "code",
   "execution_count": 93,
   "id": "b5a3e087-8f67-49a3-a97e-0a09c7a6cef0",
   "metadata": {},
   "outputs": [],
   "source": [
    "with open('doc_len_title.pkl', 'wb') as file:\n",
    "    pickle.dump(doc_len_title, file)"
   ]
  },
  {
   "cell_type": "code",
   "execution_count": 109,
   "id": "42f4f891-b6be-4c7e-8ce0-a4dd094944be",
   "metadata": {
    "tags": []
   },
   "outputs": [
    {
     "data": {
      "text/plain": [
       "4.864006484330584"
      ]
     },
     "execution_count": 109,
     "metadata": {},
     "output_type": "execute_result"
    }
   ],
   "source": [
    "search.page_views[24544]"
   ]
  },
  {
   "cell_type": "code",
   "execution_count": 108,
   "id": "9a8648ef-1b01-482b-84ce-c8db34d16770",
   "metadata": {},
   "outputs": [
    {
     "data": {
      "text/plain": [
       "0.31983406101967243"
      ]
     },
     "execution_count": 108,
     "metadata": {},
     "output_type": "execute_result"
    }
   ],
   "source": [
    "search.pagerank[24544]"
   ]
  },
  {
   "cell_type": "code",
   "execution_count": 111,
   "id": "2d4e04f5-36ad-4509-9fdb-c7acbe254903",
   "metadata": {},
   "outputs": [],
   "source": [
    "from BM25 import BM25"
   ]
  },
  {
   "cell_type": "code",
   "execution_count": null,
   "id": "1a820033-afb4-4235-a706-61976fc3dfe4",
   "metadata": {},
   "outputs": [],
   "source": [
    "bm25 = BM25()"
   ]
  },
  {
   "cell_type": "code",
   "execution_count": 120,
   "id": "2abfbdf2-bb80-41a6-afa3-4f26667b8a97",
   "metadata": {},
   "outputs": [
    {
     "data": {
      "text/plain": [
       "[]"
      ]
     },
     "execution_count": 120,
     "metadata": {},
     "output_type": "execute_result"
    }
   ],
   "source": [
    "search.retrieve_posting_list('photosynthesi', bucket_name, search.inverted_title)"
   ]
  },
  {
   "cell_type": "code",
   "execution_count": null,
   "id": "14470ddb-62df-44da-bd2f-0f36004d9aa7",
   "metadata": {},
   "outputs": [],
   "source": []
  }
 ],
 "metadata": {
  "celltoolbar": "Create Assignment",
  "colab": {
   "collapsed_sections": [],
   "name": "assignment3_gcp.ipynb",
   "provenance": [],
   "toc_visible": true
  },
  "kernelspec": {
   "display_name": "PySpark",
   "language": "python",
   "name": "pyspark"
  },
  "language_info": {
   "codemirror_mode": {
    "name": "ipython",
    "version": 3
   },
   "file_extension": ".py",
   "mimetype": "text/x-python",
   "name": "python",
   "nbconvert_exporter": "python",
   "pygments_lexer": "ipython3",
   "version": "3.10.8"
  }
 },
 "nbformat": 4,
 "nbformat_minor": 5
}
